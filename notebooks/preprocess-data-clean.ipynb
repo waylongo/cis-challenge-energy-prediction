{
 "cells": [
  {
   "cell_type": "code",
   "execution_count": 1,
   "metadata": {
    "ExecuteTime": {
     "end_time": "2020-11-22T21:34:18.195479Z",
     "start_time": "2020-11-22T21:34:17.897463Z"
    }
   },
   "outputs": [],
   "source": [
    "import numpy as np\n",
    "import pandas as pd\n",
    "import matplotlib.pyplot as plt\n",
    "from tqdm import tqdm_notebook as tqdm\n",
    "from datetime import datetime\n",
    "\n",
    "import warnings\n",
    "warnings.filterwarnings(\"ignore\")\n",
    "pd.set_option('display.max_rows', None)"
   ]
  },
  {
   "cell_type": "code",
   "execution_count": 2,
   "metadata": {
    "ExecuteTime": {
     "end_time": "2020-11-22T21:34:18.239313Z",
     "start_time": "2020-11-22T21:34:18.196461Z"
    }
   },
   "outputs": [
    {
     "name": "stdout",
     "output_type": "stream",
     "text": [
      "(3248, 366)\n"
     ]
    },
    {
     "data": {
      "text/html": [
       "<div>\n",
       "<style scoped>\n",
       "    .dataframe tbody tr th:only-of-type {\n",
       "        vertical-align: middle;\n",
       "    }\n",
       "\n",
       "    .dataframe tbody tr th {\n",
       "        vertical-align: top;\n",
       "    }\n",
       "\n",
       "    .dataframe thead th {\n",
       "        text-align: right;\n",
       "    }\n",
       "</style>\n",
       "<table border=\"1\" class=\"dataframe\">\n",
       "  <thead>\n",
       "    <tr style=\"text-align: right;\">\n",
       "      <th></th>\n",
       "      <th>meter_id</th>\n",
       "      <th>2017-01-01</th>\n",
       "      <th>2017-01-02</th>\n",
       "      <th>2017-01-03</th>\n",
       "      <th>2017-01-04</th>\n",
       "      <th>2017-01-05</th>\n",
       "      <th>2017-01-06</th>\n",
       "      <th>2017-01-07</th>\n",
       "      <th>2017-01-08</th>\n",
       "      <th>2017-01-09</th>\n",
       "      <th>...</th>\n",
       "      <th>2017-12-22</th>\n",
       "      <th>2017-12-23</th>\n",
       "      <th>2017-12-24</th>\n",
       "      <th>2017-12-25</th>\n",
       "      <th>2017-12-26</th>\n",
       "      <th>2017-12-27</th>\n",
       "      <th>2017-12-28</th>\n",
       "      <th>2017-12-29</th>\n",
       "      <th>2017-12-30</th>\n",
       "      <th>2017-12-31</th>\n",
       "    </tr>\n",
       "  </thead>\n",
       "  <tbody>\n",
       "    <tr>\n",
       "      <th>0</th>\n",
       "      <td>0xa62b9f23553ff183f61e2bf943aab3d5983d02d7</td>\n",
       "      <td>0.0</td>\n",
       "      <td>0.0</td>\n",
       "      <td>0.0</td>\n",
       "      <td>0.0</td>\n",
       "      <td>0.0</td>\n",
       "      <td>0.0</td>\n",
       "      <td>0.0</td>\n",
       "      <td>0.0</td>\n",
       "      <td>0.0</td>\n",
       "      <td>...</td>\n",
       "      <td>4.030</td>\n",
       "      <td>5.397</td>\n",
       "      <td>0.0</td>\n",
       "      <td>4.818</td>\n",
       "      <td>3.931</td>\n",
       "      <td>0.0</td>\n",
       "      <td>4.503</td>\n",
       "      <td>0.0</td>\n",
       "      <td>5.129</td>\n",
       "      <td>5.395</td>\n",
       "    </tr>\n",
       "    <tr>\n",
       "      <th>1</th>\n",
       "      <td>0x459c834d1f6cfb5b734b82aa9f5410fa97fb70da</td>\n",
       "      <td>0.0</td>\n",
       "      <td>0.0</td>\n",
       "      <td>0.0</td>\n",
       "      <td>0.0</td>\n",
       "      <td>0.0</td>\n",
       "      <td>0.0</td>\n",
       "      <td>0.0</td>\n",
       "      <td>0.0</td>\n",
       "      <td>0.0</td>\n",
       "      <td>...</td>\n",
       "      <td>13.101</td>\n",
       "      <td>14.327</td>\n",
       "      <td>0.0</td>\n",
       "      <td>14.936</td>\n",
       "      <td>16.174</td>\n",
       "      <td>0.0</td>\n",
       "      <td>24.618</td>\n",
       "      <td>0.0</td>\n",
       "      <td>15.167</td>\n",
       "      <td>11.751</td>\n",
       "    </tr>\n",
       "    <tr>\n",
       "      <th>2</th>\n",
       "      <td>0x4a1ed36825360a058cec2bdd409fc2459e1ce54f</td>\n",
       "      <td>0.0</td>\n",
       "      <td>0.0</td>\n",
       "      <td>0.0</td>\n",
       "      <td>0.0</td>\n",
       "      <td>0.0</td>\n",
       "      <td>0.0</td>\n",
       "      <td>0.0</td>\n",
       "      <td>0.0</td>\n",
       "      <td>0.0</td>\n",
       "      <td>...</td>\n",
       "      <td>10.201</td>\n",
       "      <td>7.320</td>\n",
       "      <td>0.0</td>\n",
       "      <td>7.384</td>\n",
       "      <td>14.425</td>\n",
       "      <td>0.0</td>\n",
       "      <td>17.705</td>\n",
       "      <td>0.0</td>\n",
       "      <td>8.966</td>\n",
       "      <td>4.633</td>\n",
       "    </tr>\n",
       "    <tr>\n",
       "      <th>3</th>\n",
       "      <td>0x5b76d3c0e0aefc6e0a8d1d031f96388a23263407</td>\n",
       "      <td>0.0</td>\n",
       "      <td>0.0</td>\n",
       "      <td>0.0</td>\n",
       "      <td>0.0</td>\n",
       "      <td>0.0</td>\n",
       "      <td>0.0</td>\n",
       "      <td>0.0</td>\n",
       "      <td>0.0</td>\n",
       "      <td>0.0</td>\n",
       "      <td>...</td>\n",
       "      <td>14.833</td>\n",
       "      <td>12.477</td>\n",
       "      <td>0.0</td>\n",
       "      <td>10.974</td>\n",
       "      <td>19.646</td>\n",
       "      <td>0.0</td>\n",
       "      <td>23.993</td>\n",
       "      <td>0.0</td>\n",
       "      <td>15.841</td>\n",
       "      <td>14.452</td>\n",
       "    </tr>\n",
       "    <tr>\n",
       "      <th>4</th>\n",
       "      <td>0x943ebe39ef2be6ef807c42c5a647e27112ca5b0f</td>\n",
       "      <td>0.0</td>\n",
       "      <td>0.0</td>\n",
       "      <td>0.0</td>\n",
       "      <td>0.0</td>\n",
       "      <td>0.0</td>\n",
       "      <td>0.0</td>\n",
       "      <td>0.0</td>\n",
       "      <td>0.0</td>\n",
       "      <td>0.0</td>\n",
       "      <td>...</td>\n",
       "      <td>39.440</td>\n",
       "      <td>35.538</td>\n",
       "      <td>0.0</td>\n",
       "      <td>8.351</td>\n",
       "      <td>9.957</td>\n",
       "      <td>0.0</td>\n",
       "      <td>25.871</td>\n",
       "      <td>0.0</td>\n",
       "      <td>46.274</td>\n",
       "      <td>16.901</td>\n",
       "    </tr>\n",
       "  </tbody>\n",
       "</table>\n",
       "<p>5 rows × 366 columns</p>\n",
       "</div>"
      ],
      "text/plain": [
       "                                     meter_id  2017-01-01  2017-01-02  \\\n",
       "0  0xa62b9f23553ff183f61e2bf943aab3d5983d02d7         0.0         0.0   \n",
       "1  0x459c834d1f6cfb5b734b82aa9f5410fa97fb70da         0.0         0.0   \n",
       "2  0x4a1ed36825360a058cec2bdd409fc2459e1ce54f         0.0         0.0   \n",
       "3  0x5b76d3c0e0aefc6e0a8d1d031f96388a23263407         0.0         0.0   \n",
       "4  0x943ebe39ef2be6ef807c42c5a647e27112ca5b0f         0.0         0.0   \n",
       "\n",
       "   2017-01-03  2017-01-04  2017-01-05  2017-01-06  2017-01-07  2017-01-08  \\\n",
       "0         0.0         0.0         0.0         0.0         0.0         0.0   \n",
       "1         0.0         0.0         0.0         0.0         0.0         0.0   \n",
       "2         0.0         0.0         0.0         0.0         0.0         0.0   \n",
       "3         0.0         0.0         0.0         0.0         0.0         0.0   \n",
       "4         0.0         0.0         0.0         0.0         0.0         0.0   \n",
       "\n",
       "   2017-01-09  ...  2017-12-22  2017-12-23  2017-12-24  2017-12-25  \\\n",
       "0         0.0  ...       4.030       5.397         0.0       4.818   \n",
       "1         0.0  ...      13.101      14.327         0.0      14.936   \n",
       "2         0.0  ...      10.201       7.320         0.0       7.384   \n",
       "3         0.0  ...      14.833      12.477         0.0      10.974   \n",
       "4         0.0  ...      39.440      35.538         0.0       8.351   \n",
       "\n",
       "   2017-12-26  2017-12-27  2017-12-28  2017-12-29  2017-12-30  2017-12-31  \n",
       "0       3.931         0.0       4.503         0.0       5.129       5.395  \n",
       "1      16.174         0.0      24.618         0.0      15.167      11.751  \n",
       "2      14.425         0.0      17.705         0.0       8.966       4.633  \n",
       "3      19.646         0.0      23.993         0.0      15.841      14.452  \n",
       "4       9.957         0.0      25.871         0.0      46.274      16.901  \n",
       "\n",
       "[5 rows x 366 columns]"
      ]
     },
     "execution_count": 2,
     "metadata": {},
     "output_type": "execute_result"
    }
   ],
   "source": [
    "df = pd.read_pickle(\"../input/consumption_day.pkl\")\n",
    "\n",
    "print(df.shape)\n",
    "df.head()"
   ]
  },
  {
   "cell_type": "code",
   "execution_count": 3,
   "metadata": {
    "ExecuteTime": {
     "end_time": "2020-11-22T21:34:53.873011Z",
     "start_time": "2020-11-22T21:34:18.240433Z"
    }
   },
   "outputs": [
    {
     "data": {
      "application/vnd.jupyter.widget-view+json": {
       "model_id": "a243dbc89337452094bd7a1ff3dc399d",
       "version_major": 2,
       "version_minor": 0
      },
      "text/plain": [
       "HBox(children=(IntProgress(value=0, max=3248), HTML(value='')))"
      ]
     },
     "metadata": {},
     "output_type": "display_data"
    },
    {
     "name": "stdout",
     "output_type": "stream",
     "text": [
      "\n",
      "(1185520, 3)\n"
     ]
    },
    {
     "data": {
      "text/html": [
       "<div>\n",
       "<style scoped>\n",
       "    .dataframe tbody tr th:only-of-type {\n",
       "        vertical-align: middle;\n",
       "    }\n",
       "\n",
       "    .dataframe tbody tr th {\n",
       "        vertical-align: top;\n",
       "    }\n",
       "\n",
       "    .dataframe thead th {\n",
       "        text-align: right;\n",
       "    }\n",
       "</style>\n",
       "<table border=\"1\" class=\"dataframe\">\n",
       "  <thead>\n",
       "    <tr style=\"text-align: right;\">\n",
       "      <th></th>\n",
       "      <th>meter_id</th>\n",
       "      <th>date</th>\n",
       "      <th>meter_reading</th>\n",
       "    </tr>\n",
       "  </thead>\n",
       "  <tbody>\n",
       "    <tr>\n",
       "      <th>0</th>\n",
       "      <td>0x0001f1c389823f953b2eaee0a61c33539744da0c</td>\n",
       "      <td>2017-01-01</td>\n",
       "      <td>0.0</td>\n",
       "    </tr>\n",
       "    <tr>\n",
       "      <th>1</th>\n",
       "      <td>0x0001f1c389823f953b2eaee0a61c33539744da0c</td>\n",
       "      <td>2017-01-02</td>\n",
       "      <td>0.0</td>\n",
       "    </tr>\n",
       "    <tr>\n",
       "      <th>2</th>\n",
       "      <td>0x0001f1c389823f953b2eaee0a61c33539744da0c</td>\n",
       "      <td>2017-01-03</td>\n",
       "      <td>0.0</td>\n",
       "    </tr>\n",
       "    <tr>\n",
       "      <th>3</th>\n",
       "      <td>0x0001f1c389823f953b2eaee0a61c33539744da0c</td>\n",
       "      <td>2017-01-04</td>\n",
       "      <td>0.0</td>\n",
       "    </tr>\n",
       "    <tr>\n",
       "      <th>4</th>\n",
       "      <td>0x0001f1c389823f953b2eaee0a61c33539744da0c</td>\n",
       "      <td>2017-01-05</td>\n",
       "      <td>0.0</td>\n",
       "    </tr>\n",
       "  </tbody>\n",
       "</table>\n",
       "</div>"
      ],
      "text/plain": [
       "                                     meter_id       date  meter_reading\n",
       "0  0x0001f1c389823f953b2eaee0a61c33539744da0c 2017-01-01            0.0\n",
       "1  0x0001f1c389823f953b2eaee0a61c33539744da0c 2017-01-02            0.0\n",
       "2  0x0001f1c389823f953b2eaee0a61c33539744da0c 2017-01-03            0.0\n",
       "3  0x0001f1c389823f953b2eaee0a61c33539744da0c 2017-01-04            0.0\n",
       "4  0x0001f1c389823f953b2eaee0a61c33539744da0c 2017-01-05            0.0"
      ]
     },
     "execution_count": 3,
     "metadata": {},
     "output_type": "execute_result"
    }
   ],
   "source": [
    "start = datetime(2017, 1, 1)\n",
    "end = datetime(2017, 12, 31)\n",
    "date_range = pd.date_range(start, end)\n",
    "\n",
    "df_train = pd.DataFrame(columns=[\"meter_id\", \"date\", \"meter_reading\"])\n",
    "\n",
    "for meter_idx in tqdm(df[\"meter_id\"].values):\n",
    "    \n",
    "    df_meter_idx = pd.DataFrame(columns=[\"meter_id\", \"date\", \"meter_reading\"])\n",
    "    df_meter_idx[\"date\"] = date_range\n",
    "    df_meter_idx[\"meter_id\"] = meter_idx\n",
    "    df_meter_idx[\"meter_reading\"] = df[df.meter_id == meter_idx].stack().values[1:].astype(float)\n",
    "\n",
    "    df_train = pd.concat([df_train, df_meter_idx]).reset_index(drop=True)\n",
    "\n",
    "df_train = df_train.sort_values([\"meter_id\", \"date\"]).reset_index(drop=True)\n",
    "df_train[\"meter_reading\"] = df_train[\"meter_reading\"].round(3)\n",
    "print(df_train.shape)\n",
    "df_train.head()"
   ]
  },
  {
   "cell_type": "code",
   "execution_count": 4,
   "metadata": {
    "ExecuteTime": {
     "end_time": "2020-11-22T21:34:55.886739Z",
     "start_time": "2020-11-22T21:34:53.874020Z"
    }
   },
   "outputs": [
    {
     "name": "stdout",
     "output_type": "stream",
     "text": [
      "(636598, 3)\n"
     ]
    },
    {
     "data": {
      "text/html": [
       "<div>\n",
       "<style scoped>\n",
       "    .dataframe tbody tr th:only-of-type {\n",
       "        vertical-align: middle;\n",
       "    }\n",
       "\n",
       "    .dataframe tbody tr th {\n",
       "        vertical-align: top;\n",
       "    }\n",
       "\n",
       "    .dataframe thead th {\n",
       "        text-align: right;\n",
       "    }\n",
       "</style>\n",
       "<table border=\"1\" class=\"dataframe\">\n",
       "  <thead>\n",
       "    <tr style=\"text-align: right;\">\n",
       "      <th></th>\n",
       "      <th>meter_id</th>\n",
       "      <th>date</th>\n",
       "      <th>meter_reading</th>\n",
       "    </tr>\n",
       "  </thead>\n",
       "  <tbody>\n",
       "    <tr>\n",
       "      <th>0</th>\n",
       "      <td>0x0001f1c389823f953b2eaee0a61c33539744da0c</td>\n",
       "      <td>2017-08-01</td>\n",
       "      <td>4.143</td>\n",
       "    </tr>\n",
       "    <tr>\n",
       "      <th>1</th>\n",
       "      <td>0x0001f1c389823f953b2eaee0a61c33539744da0c</td>\n",
       "      <td>2017-08-02</td>\n",
       "      <td>4.116</td>\n",
       "    </tr>\n",
       "    <tr>\n",
       "      <th>2</th>\n",
       "      <td>0x0001f1c389823f953b2eaee0a61c33539744da0c</td>\n",
       "      <td>2017-08-03</td>\n",
       "      <td>4.101</td>\n",
       "    </tr>\n",
       "    <tr>\n",
       "      <th>3</th>\n",
       "      <td>0x0001f1c389823f953b2eaee0a61c33539744da0c</td>\n",
       "      <td>2017-08-04</td>\n",
       "      <td>4.124</td>\n",
       "    </tr>\n",
       "    <tr>\n",
       "      <th>4</th>\n",
       "      <td>0x0001f1c389823f953b2eaee0a61c33539744da0c</td>\n",
       "      <td>2017-08-05</td>\n",
       "      <td>4.111</td>\n",
       "    </tr>\n",
       "  </tbody>\n",
       "</table>\n",
       "</div>"
      ],
      "text/plain": [
       "                                     meter_id       date  meter_reading\n",
       "0  0x0001f1c389823f953b2eaee0a61c33539744da0c 2017-08-01          4.143\n",
       "1  0x0001f1c389823f953b2eaee0a61c33539744da0c 2017-08-02          4.116\n",
       "2  0x0001f1c389823f953b2eaee0a61c33539744da0c 2017-08-03          4.101\n",
       "3  0x0001f1c389823f953b2eaee0a61c33539744da0c 2017-08-04          4.124\n",
       "4  0x0001f1c389823f953b2eaee0a61c33539744da0c 2017-08-05          4.111"
      ]
     },
     "execution_count": 4,
     "metadata": {},
     "output_type": "execute_result"
    }
   ],
   "source": [
    "# REMOVE missing data - remove data if 3 days sensor mean readings are 0\n",
    "df_train[\"meter_reading_rolling_3\"] = df_train.groupby([\"meter_id\"])[\"meter_reading\"].rolling(3).mean().fillna(-1).values\n",
    "df_train = df_train[df_train.meter_reading_rolling_3 > 1e-3].reset_index(drop=True)\n",
    "df_train.drop([\"meter_reading_rolling_3\"], axis=1, inplace=True)\n",
    "print(df_train.shape)\n",
    "df_train.head()"
   ]
  },
  {
   "cell_type": "code",
   "execution_count": 5,
   "metadata": {
    "ExecuteTime": {
     "end_time": "2020-11-22T21:34:55.889155Z",
     "start_time": "2020-11-22T21:34:55.887622Z"
    }
   },
   "outputs": [],
   "source": [
    "### most of below are from the check_outliers.ipynb notesbook"
   ]
  },
  {
   "cell_type": "code",
   "execution_count": 6,
   "metadata": {
    "ExecuteTime": {
     "end_time": "2020-11-22T21:34:55.921871Z",
     "start_time": "2020-11-22T21:34:55.889891Z"
    }
   },
   "outputs": [],
   "source": [
    "# CLUSTER 0: 0-270\n",
    "#257 (all zeros)\n",
    "df_train = df_train.query('not (meter_id == \"0x81fa8eddb2b09393d3719984ca5520cb50f45efd\")')"
   ]
  },
  {
   "cell_type": "code",
   "execution_count": 7,
   "metadata": {
    "ExecuteTime": {
     "end_time": "2020-11-22T21:34:55.964241Z",
     "start_time": "2020-11-22T21:34:55.922821Z"
    }
   },
   "outputs": [],
   "source": [
    "# CLUSTER 1: 271-541\n",
    "#377\n",
    "df_train = df_train.query('not (meter_id == \"0x306e6baa9367d3c43fa6ecc2d0054b207d6ef471\" & date < \"2017-12-20\")')\n",
    "\n",
    "#515\n",
    "df_train = df_train.query('not (meter_id == \"0x423fa805ddb0cba9bdb4460f9a78540287eefd0e\")')"
   ]
  },
  {
   "cell_type": "code",
   "execution_count": 8,
   "metadata": {
    "ExecuteTime": {
     "end_time": "2020-11-22T21:34:56.027700Z",
     "start_time": "2020-11-22T21:34:55.965777Z"
    }
   },
   "outputs": [],
   "source": [
    "# CLUSTER 2: 542-812\n",
    "#734\n",
    "df_train = df_train.query('not (meter_id == \"0xc84773d3755ad01dadad61d45008ddf91cb1f17f\" & date < \"2017-12-1\")')\n",
    "\n",
    "#775\n",
    "df_train = df_train.query('not (meter_id == \"0xd23ef71e350e2d1c196c4e8c86b0366f24625f27\")')\n",
    "\n",
    "#785\n",
    "df_train = df_train.query('not (meter_id == \"0x091e6452a3b5d6f5ed0364d4832757c726eb59a5\" & date < \"2017-11-1\")')"
   ]
  },
  {
   "cell_type": "code",
   "execution_count": 9,
   "metadata": {
    "ExecuteTime": {
     "end_time": "2020-11-22T21:34:56.168504Z",
     "start_time": "2020-11-22T21:34:56.028854Z"
    }
   },
   "outputs": [],
   "source": [
    "# CLUSTER 3: 813-1083\n",
    "#823\n",
    "df_train = df_train.query('not (meter_id == \"0xe405bb258bb4afff752ea6b745974fbabe13681b\" & date < \"2017-12-1\")')\n",
    "\n",
    "#873\n",
    "df_train = df_train.query('not (meter_id == \"0xd1dd81631b89047ee2ed4eb83f88b011a0beee96\" & date < \"2017-11-1\")')\n",
    "\n",
    "#947\n",
    "df_train = df_train.query('not (meter_id == \"0x8af6a4d9bf889f310b897dddfac2d669b945c548\" & date < \"2017-12-1\")')\n",
    "\n",
    "#993\n",
    "df_train = df_train.query('not (meter_id == \"0xf226527dbcb9b2afdbdb5d63e7c27d8bef036941\")')\n",
    "\n",
    "#1025\n",
    "df_train = df_train.query('not (meter_id == \"0x669a5529a8c912ae5df50d05b9b1f12a623304c1\")')\n",
    "\n",
    "#1048\n",
    "df_train = df_train.query('not (meter_id == \"0x0cccf4ed9c731495f4156884240dd4d74e471ba2\" & date < \"2017-11-15\")')\n",
    "\n",
    "#1061\n",
    "df_train = df_train.query('not (meter_id == \"0x928639442e6f52a387c1f2930d17f9b95910ce8c\" & date < \"2017-12-10\")')"
   ]
  },
  {
   "cell_type": "code",
   "execution_count": 10,
   "metadata": {
    "ExecuteTime": {
     "end_time": "2020-11-22T21:34:56.329187Z",
     "start_time": "2020-11-22T21:34:56.169452Z"
    }
   },
   "outputs": [],
   "source": [
    "# CLUSTER 4: 1084-1354\n",
    "#1091\n",
    "df_train = df_train.query('not (meter_id == \"0xe41c230484378b2312fbf1fc99d289e0b51a3c52\")')\n",
    "\n",
    "#1150\n",
    "df_train = df_train.query('not (meter_id == \"0xa0a3003a10a350195ebe503e0899ebeaccee78ae\")')\n",
    "\n",
    "#1245\n",
    "df_train = df_train.query('not (meter_id == \"0xd9583a22cacb4a8e859bc9f33b54612c86fe7ce2\" & date < \"2017-11-1\")')\n",
    "\n",
    "#1251\n",
    "df_train = df_train.query('not (meter_id == \"0x7900a0fa75b06d938464f776ded709b8318c320c\" & date < \"2017-11-1\")')\n",
    "\n",
    "#1290\n",
    "df_train = df_train.query('not (meter_id == \"0x087e8414ef3e98ee3878b0f764025f85522cb3e6\" & date < \"2017-12-1\")')\n",
    "\n",
    "#1342\n",
    "df_train = df_train.query('not (meter_id == \"0x95fc7e54336e87feed25423b86d9ea92e47432dc\" & date < \"2017-12-1\")')\n",
    "\n",
    "#1350\n",
    "df_train = df_train.query('not (meter_id == \"0x92ed8eeea2e07d87de0d3a07f8592bbefc036267\" & date < \"2017-11-1\")')\n",
    "\n",
    "#1351\n",
    "df_train = df_train.query('not (meter_id == \"0xa9635068c6db75ffef8332f2a56a32e5a75ac21c\" & date < \"2017-12-1\")')"
   ]
  },
  {
   "cell_type": "code",
   "execution_count": 11,
   "metadata": {
    "ExecuteTime": {
     "end_time": "2020-11-22T21:34:56.472776Z",
     "start_time": "2020-11-22T21:34:56.330102Z"
    }
   },
   "outputs": [],
   "source": [
    "# CLUSTER 5: 1355-1625\n",
    "#1360\n",
    "df_train = df_train.query('not (meter_id == \"0x800c9648a84c44cf1a1b0a0ada6283495a69fe8b\")')\n",
    "\n",
    "#1419\n",
    "df_train = df_train.query('not (meter_id == \"0xd4f466b4dd0cff2bdec56816b5e8b78309d8a525\" & date < \"2017-11-1\")')\n",
    "\n",
    "#1435\n",
    "df_train = df_train.query('not (meter_id == \"0x0a7d02ab9cf4a3dd1a21f6940b5f8ad91fcbd13a\" & date > \"2017-9-1\")')\n",
    "\n",
    "#1535\n",
    "df_train = df_train.query('not (meter_id == \"0x4d2d19dd444313b0f17fe087ee5cbb80fd53d682\" & date < \"2017-9-1\")')\n",
    "\n",
    "#1545\n",
    "df_train = df_train.query('not (meter_id == \"0x59799e9835ff86e7926d43592c9fa93415a8b754\" & date < \"2017-12-1\")')\n",
    "\n",
    "#1596\n",
    "df_train = df_train.query('not (meter_id == \"0xf0addcdd2c402d4a2f8a7a7a95c7d246d1c59b63\" & date > \"2017-9-1\")')\n",
    "\n",
    "#1608\n",
    "df_train = df_train.query('not (meter_id == \"0x0cf2db66a7e366ebb5cb9866e2b2333cdb42b75c\" & date < \"2017-12-1\")')"
   ]
  },
  {
   "cell_type": "code",
   "execution_count": 12,
   "metadata": {
    "ExecuteTime": {
     "end_time": "2020-11-22T21:34:56.574196Z",
     "start_time": "2020-11-22T21:34:56.473711Z"
    }
   },
   "outputs": [],
   "source": [
    "# CLUSTER 6: 1626-1896\n",
    "#1671\n",
    "df_train = df_train.query('not (meter_id == \"0x9b7d38dac67f0cac0b721d97b86d49a531ceafd7\" & date < \"2017-9-1\")')\n",
    "\n",
    "#1797\n",
    "df_train = df_train.query('not (meter_id == \"0x024dde4050a50ee78153c99ea37fda1326fc6468\" & date < \"2017-10-1\")')\n",
    "\n",
    "#1816\n",
    "df_train = df_train.query('not (meter_id == \"0x8594629a224eed965ab0222613eefb88781ac784\" & date < \"2017-12-1\")')\n",
    "\n",
    "#1887\n",
    "df_train = df_train.query('not (meter_id == \"0x5c74fe4757ca70cf3c8e2ea491db1ae420649299\" & date < \"2017-12-1\")')\n",
    "\n",
    "#1894\n",
    "df_train = df_train.query('not (meter_id == \"0xfc287868b286c46de7210470f2d3e2a1b5334ce3\" & date < \"2017-11-1\")')"
   ]
  },
  {
   "cell_type": "code",
   "execution_count": 13,
   "metadata": {
    "ExecuteTime": {
     "end_time": "2020-11-22T21:34:56.772637Z",
     "start_time": "2020-11-22T21:34:56.575154Z"
    }
   },
   "outputs": [],
   "source": [
    "# CLUSTER 7: 1897-2167\n",
    "#1922\n",
    "df_train = df_train.query('not (meter_id == \"0xc0ce1f0aa80acb8c9ede1156b53bdc1b3faec297\" & date < \"2017-8-1\")')\n",
    "\n",
    "#1953\n",
    "df_train = df_train.query('not (meter_id == \"0xc73b4d676b98a29a4c3c4ed78c8f1d208b96fa11\" & date < \"2017-11-1\")')\n",
    "\n",
    "#1966\n",
    "df_train = df_train.query('not (meter_id == \"0x4dd7140b3e4911a17ab45b6c4d83cda08caa1712\" & date < \"2017-11-1\")')\n",
    "\n",
    "#2026\n",
    "df_train = df_train.query('not (meter_id == \"0x0d1e3f2881f92da5f0c2250854ace74b82cd6aae\" & date < \"2017-11-10\")')\n",
    "\n",
    "#2035\n",
    "df_train = df_train.query('not (meter_id == \"0xdc06d14af4048e4b4b38b8119c77dcce785c1aa5\" & date < \"2017-7-1\")')\n",
    "\n",
    "#2042\n",
    "df_train = df_train.query('not (meter_id == \"0x0bb3e76a57e589d8e2a930aa868c225f5347fc71\" & date < \"2017-11-1\")')\n",
    "\n",
    "#2060\n",
    "df_train = df_train.query('not (meter_id == \"0xca77a75d9ce22d916358c9335c35f2b0ad5581ba\" & date < \"2017-11-15\")')\n",
    "\n",
    "#2080\n",
    "df_train = df_train.query('not (meter_id == \"0xe2154c841409bba5b83d208c83c33938d1a02474\")')\n",
    "\n",
    "#2084\n",
    "df_train = df_train.query('not (meter_id == \"0x57f9a238a2eb176e3e8a34d5be35adfca6341c6f\" & date < \"2017-11-15\")')\n",
    "\n",
    "#2151\n",
    "df_train = df_train.query('not (meter_id == \"0xe5c7a9422ea390997565ae6f037383ff79cf9daa\" & date < \"2017-9-1\")')"
   ]
  },
  {
   "cell_type": "code",
   "execution_count": 14,
   "metadata": {
    "ExecuteTime": {
     "end_time": "2020-11-22T21:34:56.873302Z",
     "start_time": "2020-11-22T21:34:56.773589Z"
    }
   },
   "outputs": [],
   "source": [
    "# CLUSTER 8: 2168-2437\n",
    "#2271\n",
    "df_train = df_train.query('not (meter_id == \"0x1527c03f99b223369214530034b4ba6d006097b7\" & date < \"2017-7-1\")')\n",
    "\n",
    "#2286\n",
    "df_train = df_train.query('not (meter_id == \"0xfd1a269f4667f21684486b89f3c0fa7e2fa03a5d\" & date > \"2017-7-1\")')\n",
    "\n",
    "#2290\n",
    "df_train = df_train.query('not (meter_id == \"0xca8dbfb4bfc0f430b102688b4f5d90c7c64feeab\" & date < \"2017-9-1\")')\n",
    "\n",
    "#2311\n",
    "df_train = df_train.query('not (meter_id == \"0xf5df47623993f1e0c327bad42a1c3289232d31ae\" & date < \"2017-10-1\")')\n",
    "\n",
    "#2424\n",
    "df_train = df_train.query('not (meter_id == \"0x240e5e22734a44a174b7dabcf1ea00d70d9ec168\" & date < \"2017-11-1\")')"
   ]
  },
  {
   "cell_type": "code",
   "execution_count": 15,
   "metadata": {
    "ExecuteTime": {
     "end_time": "2020-11-22T21:34:56.957429Z",
     "start_time": "2020-11-22T21:34:56.874271Z"
    }
   },
   "outputs": [],
   "source": [
    "# CLUSTER 9: 2438-2707\n",
    "#2470\n",
    "df_train = df_train.query('not (meter_id == \"0x06f762afdc7b9efa97a076ec3cf1c60f17f939d8\" & meter_reading > 20)')\n",
    "\n",
    "#2531\n",
    "df_train = df_train.query('not (meter_id == \"0x6ac8944f86574cda6f77357c80b43115068132c2\" & date < \"2017-5-1\")')\n",
    "\n",
    "#2642\n",
    "df_train = df_train.query('not (meter_id == \"0x5e38e74c0bb5a70dfd4cdfb99f9daaf94e3c2176\" & date < \"2017-5-1\")')\n",
    "\n",
    "#2669\n",
    "df_train = df_train.query('not (meter_id == \"0xf68047ef8dd34bbafc9e87c54a27b4e416b337f1\" & date < \"2017-9-1\")')"
   ]
  },
  {
   "cell_type": "code",
   "execution_count": 16,
   "metadata": {
    "ExecuteTime": {
     "end_time": "2020-11-22T21:34:57.042815Z",
     "start_time": "2020-11-22T21:34:56.958592Z"
    }
   },
   "outputs": [],
   "source": [
    "# CLUSTER 10: 2708-2977\n",
    "#2711\n",
    "df_train = df_train.query('not (meter_id == \"0xdd6f5700bd227b17f00c19564563094661450620\")')\n",
    "\n",
    "#2907\n",
    "df_train = df_train.query('not (meter_id == \"0x843fed762825bfdc1f8f07349d425fd5c7b4cd1e\" & date > \"2017-12-1\")')\n",
    "\n",
    "#2955\n",
    "df_train = df_train.query('not (meter_id == \"0x463d557082956a82ac9cc68ef5ccf15a0a7ebda8\" & date < \"2017-9-1\")')\n",
    "\n",
    "#2975\n",
    "df_train = df_train.query('not (meter_id == \"0xbfa2344ecf7cc72a62a3a70599c455dac98c32e3\" & date < \"2017-7-1\")')"
   ]
  },
  {
   "cell_type": "code",
   "execution_count": 17,
   "metadata": {
    "ExecuteTime": {
     "end_time": "2020-11-22T21:34:57.252631Z",
     "start_time": "2020-11-22T21:34:57.043746Z"
    }
   },
   "outputs": [],
   "source": [
    "# CLUSTER 11: 2978-3247\n",
    "#3058\n",
    "df_train = df_train.query('not (meter_id == \"0x866f47864ad46756755708467a8f20fe130fcf19\" & date < \"2017-7-1\")')\n",
    "\n",
    "#3110\n",
    "df_train = df_train.query('not (meter_id == \"0x26460be217deb4c1898e771f96fff662b4cf07c1\" & date < \"2017-7-1\")')\n",
    "\n",
    "#3139\n",
    "df_train = df_train.query('not (meter_id == \"0x6e7987cc630ae6a908a9a87d8543c0397951f01f\" & date < \"2017-7-1\")')\n",
    "\n",
    "#3211\n",
    "df_train = df_train.query('not (meter_id == \"0x8bffc129d034f2c7526b846fb9ed7eea6b67c8d8\" & date < \"2017-10-1\")')\n",
    "\n",
    "#3213\n",
    "df_train = df_train.query('not (meter_id == \"0xf69f1323a0b54b37dfe58c89387927758ba94a03\" & date < \"2017-11-1\")')\n",
    "\n",
    "#3224\n",
    "df_train = df_train.query('not (meter_id == \"0x61c5f4683169ab47eac0bbd439919f2d8ec68dd8\" & date < \"2017-9-1\")')\n",
    "\n",
    "#3228\n",
    "df_train = df_train.query('not (meter_id == \"0x6b229d0b76a548511fab0a8a0dc6ba37b2b61fdb\" & date < \"2017-9-1\")')\n",
    "\n",
    "#3230\n",
    "df_train = df_train.query('not (meter_id == \"0x317e1b6bca135656cf58c38e8984b857a772cfb5\" & date < \"2017-11-1\")')\n",
    "\n",
    "#3241\n",
    "df_train = df_train.query('not (meter_id == \"0x6b6ddc9a73405caab50c8d5575b72288aaa7e844\" & date < \"2017-4-1\")')\n",
    "\n",
    "#3243\n",
    "df_train = df_train.query('not (meter_id == \"0x7dd7a7b8ee1bec7c44b24f738c752482f6161065\" & date < \"2017-7-1\")')"
   ]
  },
  {
   "cell_type": "code",
   "execution_count": 18,
   "metadata": {
    "ExecuteTime": {
     "end_time": "2020-11-22T21:34:57.371893Z",
     "start_time": "2020-11-22T21:34:57.253520Z"
    }
   },
   "outputs": [
    {
     "name": "stdout",
     "output_type": "stream",
     "text": [
      "(629924, 6)\n"
     ]
    },
    {
     "data": {
      "text/html": [
       "<div>\n",
       "<style scoped>\n",
       "    .dataframe tbody tr th:only-of-type {\n",
       "        vertical-align: middle;\n",
       "    }\n",
       "\n",
       "    .dataframe tbody tr th {\n",
       "        vertical-align: top;\n",
       "    }\n",
       "\n",
       "    .dataframe thead th {\n",
       "        text-align: right;\n",
       "    }\n",
       "</style>\n",
       "<table border=\"1\" class=\"dataframe\">\n",
       "  <thead>\n",
       "    <tr style=\"text-align: right;\">\n",
       "      <th></th>\n",
       "      <th>meter_id</th>\n",
       "      <th>date</th>\n",
       "      <th>meter_reading</th>\n",
       "      <th>month</th>\n",
       "      <th>day_of_month</th>\n",
       "      <th>day_of_week</th>\n",
       "    </tr>\n",
       "  </thead>\n",
       "  <tbody>\n",
       "    <tr>\n",
       "      <th>0</th>\n",
       "      <td>0x0001f1c389823f953b2eaee0a61c33539744da0c</td>\n",
       "      <td>2017-08-01</td>\n",
       "      <td>4.143</td>\n",
       "      <td>8</td>\n",
       "      <td>1</td>\n",
       "      <td>1</td>\n",
       "    </tr>\n",
       "    <tr>\n",
       "      <th>1</th>\n",
       "      <td>0x0001f1c389823f953b2eaee0a61c33539744da0c</td>\n",
       "      <td>2017-08-02</td>\n",
       "      <td>4.116</td>\n",
       "      <td>8</td>\n",
       "      <td>2</td>\n",
       "      <td>2</td>\n",
       "    </tr>\n",
       "    <tr>\n",
       "      <th>2</th>\n",
       "      <td>0x0001f1c389823f953b2eaee0a61c33539744da0c</td>\n",
       "      <td>2017-08-03</td>\n",
       "      <td>4.101</td>\n",
       "      <td>8</td>\n",
       "      <td>3</td>\n",
       "      <td>3</td>\n",
       "    </tr>\n",
       "    <tr>\n",
       "      <th>3</th>\n",
       "      <td>0x0001f1c389823f953b2eaee0a61c33539744da0c</td>\n",
       "      <td>2017-08-04</td>\n",
       "      <td>4.124</td>\n",
       "      <td>8</td>\n",
       "      <td>4</td>\n",
       "      <td>4</td>\n",
       "    </tr>\n",
       "    <tr>\n",
       "      <th>4</th>\n",
       "      <td>0x0001f1c389823f953b2eaee0a61c33539744da0c</td>\n",
       "      <td>2017-08-05</td>\n",
       "      <td>4.111</td>\n",
       "      <td>8</td>\n",
       "      <td>5</td>\n",
       "      <td>5</td>\n",
       "    </tr>\n",
       "  </tbody>\n",
       "</table>\n",
       "</div>"
      ],
      "text/plain": [
       "                                     meter_id       date  meter_reading  \\\n",
       "0  0x0001f1c389823f953b2eaee0a61c33539744da0c 2017-08-01          4.143   \n",
       "1  0x0001f1c389823f953b2eaee0a61c33539744da0c 2017-08-02          4.116   \n",
       "2  0x0001f1c389823f953b2eaee0a61c33539744da0c 2017-08-03          4.101   \n",
       "3  0x0001f1c389823f953b2eaee0a61c33539744da0c 2017-08-04          4.124   \n",
       "4  0x0001f1c389823f953b2eaee0a61c33539744da0c 2017-08-05          4.111   \n",
       "\n",
       "   month  day_of_month  day_of_week  \n",
       "0      8             1            1  \n",
       "1      8             2            2  \n",
       "2      8             3            3  \n",
       "3      8             4            4  \n",
       "4      8             5            5  "
      ]
     },
     "execution_count": 18,
     "metadata": {},
     "output_type": "execute_result"
    }
   ],
   "source": [
    "# get time feature\n",
    "df_train[\"month\"] = df_train[\"date\"].dt.month.astype(int)\n",
    "df_train[\"day_of_month\"] = df_train[\"date\"].dt.day.astype(int)\n",
    "df_train[\"day_of_week\"] = df_train[\"date\"].dt.dayofweek.astype(int)\n",
    "\n",
    "print(df_train.shape)\n",
    "df_train.head()"
   ]
  },
  {
   "cell_type": "code",
   "execution_count": 19,
   "metadata": {
    "ExecuteTime": {
     "end_time": "2020-11-22T21:34:57.474473Z",
     "start_time": "2020-11-22T21:34:57.372768Z"
    }
   },
   "outputs": [
    {
     "name": "stdout",
     "output_type": "stream",
     "text": [
      "meter map length is 3238\n",
      "(629924, 7)\n"
     ]
    },
    {
     "data": {
      "text/html": [
       "<div>\n",
       "<style scoped>\n",
       "    .dataframe tbody tr th:only-of-type {\n",
       "        vertical-align: middle;\n",
       "    }\n",
       "\n",
       "    .dataframe tbody tr th {\n",
       "        vertical-align: top;\n",
       "    }\n",
       "\n",
       "    .dataframe thead th {\n",
       "        text-align: right;\n",
       "    }\n",
       "</style>\n",
       "<table border=\"1\" class=\"dataframe\">\n",
       "  <thead>\n",
       "    <tr style=\"text-align: right;\">\n",
       "      <th></th>\n",
       "      <th>meter_id</th>\n",
       "      <th>date</th>\n",
       "      <th>meter_reading</th>\n",
       "      <th>month</th>\n",
       "      <th>day_of_month</th>\n",
       "      <th>day_of_week</th>\n",
       "      <th>meter_reading_mean</th>\n",
       "    </tr>\n",
       "  </thead>\n",
       "  <tbody>\n",
       "    <tr>\n",
       "      <th>0</th>\n",
       "      <td>0x0001f1c389823f953b2eaee0a61c33539744da0c</td>\n",
       "      <td>2017-08-01</td>\n",
       "      <td>4.143</td>\n",
       "      <td>8</td>\n",
       "      <td>1</td>\n",
       "      <td>1</td>\n",
       "      <td>3.241</td>\n",
       "    </tr>\n",
       "    <tr>\n",
       "      <th>1</th>\n",
       "      <td>0x0001f1c389823f953b2eaee0a61c33539744da0c</td>\n",
       "      <td>2017-08-02</td>\n",
       "      <td>4.116</td>\n",
       "      <td>8</td>\n",
       "      <td>2</td>\n",
       "      <td>2</td>\n",
       "      <td>3.241</td>\n",
       "    </tr>\n",
       "    <tr>\n",
       "      <th>2</th>\n",
       "      <td>0x0001f1c389823f953b2eaee0a61c33539744da0c</td>\n",
       "      <td>2017-08-03</td>\n",
       "      <td>4.101</td>\n",
       "      <td>8</td>\n",
       "      <td>3</td>\n",
       "      <td>3</td>\n",
       "      <td>3.241</td>\n",
       "    </tr>\n",
       "    <tr>\n",
       "      <th>3</th>\n",
       "      <td>0x0001f1c389823f953b2eaee0a61c33539744da0c</td>\n",
       "      <td>2017-08-04</td>\n",
       "      <td>4.124</td>\n",
       "      <td>8</td>\n",
       "      <td>4</td>\n",
       "      <td>4</td>\n",
       "      <td>3.241</td>\n",
       "    </tr>\n",
       "    <tr>\n",
       "      <th>4</th>\n",
       "      <td>0x0001f1c389823f953b2eaee0a61c33539744da0c</td>\n",
       "      <td>2017-08-05</td>\n",
       "      <td>4.111</td>\n",
       "      <td>8</td>\n",
       "      <td>5</td>\n",
       "      <td>5</td>\n",
       "      <td>3.241</td>\n",
       "    </tr>\n",
       "  </tbody>\n",
       "</table>\n",
       "</div>"
      ],
      "text/plain": [
       "                                     meter_id       date  meter_reading  \\\n",
       "0  0x0001f1c389823f953b2eaee0a61c33539744da0c 2017-08-01          4.143   \n",
       "1  0x0001f1c389823f953b2eaee0a61c33539744da0c 2017-08-02          4.116   \n",
       "2  0x0001f1c389823f953b2eaee0a61c33539744da0c 2017-08-03          4.101   \n",
       "3  0x0001f1c389823f953b2eaee0a61c33539744da0c 2017-08-04          4.124   \n",
       "4  0x0001f1c389823f953b2eaee0a61c33539744da0c 2017-08-05          4.111   \n",
       "\n",
       "   month  day_of_month  day_of_week  meter_reading_mean  \n",
       "0      8             1            1               3.241  \n",
       "1      8             2            2               3.241  \n",
       "2      8             3            3               3.241  \n",
       "3      8             4            4               3.241  \n",
       "4      8             5            5               3.241  "
      ]
     },
     "execution_count": 19,
     "metadata": {},
     "output_type": "execute_result"
    }
   ],
   "source": [
    "# mean year meter reading\n",
    "meter_reading_mean = df_train.groupby([\"meter_id\"])[\"meter_reading\"].mean().rename(\"meter_reading_mean\").round(3)\n",
    "df_train = df_train.merge(meter_reading_mean, on=\"meter_id\", how=\"left\")\n",
    "df_train[\"meter_reading_mean\"].fillna(0, inplace=True)\n",
    "print(f\"meter map length is {len(meter_reading_mean)}\")\n",
    "# print(set(df.meter_id) - set(meter_reading_mean.index.values))\n",
    "\n",
    "print(df_train.shape)\n",
    "df_train.head()"
   ]
  },
  {
   "cell_type": "code",
   "execution_count": 20,
   "metadata": {
    "ExecuteTime": {
     "end_time": "2020-11-22T21:36:19.258145Z",
     "start_time": "2020-11-22T21:34:57.475383Z"
    }
   },
   "outputs": [
    {
     "data": {
      "application/vnd.jupyter.widget-view+json": {
       "model_id": "02f72b96a5b549e09952f9105bb04dc3",
       "version_major": 2,
       "version_minor": 0
      },
      "text/plain": [
       "HBox(children=(IntProgress(value=0, max=3248), HTML(value='')))"
      ]
     },
     "metadata": {},
     "output_type": "display_data"
    },
    {
     "name": "stdout",
     "output_type": "stream",
     "text": [
      "\n",
      "(1185520, 3)\n"
     ]
    },
    {
     "data": {
      "text/html": [
       "<div>\n",
       "<style scoped>\n",
       "    .dataframe tbody tr th:only-of-type {\n",
       "        vertical-align: middle;\n",
       "    }\n",
       "\n",
       "    .dataframe tbody tr th {\n",
       "        vertical-align: top;\n",
       "    }\n",
       "\n",
       "    .dataframe thead th {\n",
       "        text-align: right;\n",
       "    }\n",
       "</style>\n",
       "<table border=\"1\" class=\"dataframe\">\n",
       "  <thead>\n",
       "    <tr style=\"text-align: right;\">\n",
       "      <th></th>\n",
       "      <th>meter_id</th>\n",
       "      <th>date</th>\n",
       "      <th>meter_reading</th>\n",
       "    </tr>\n",
       "  </thead>\n",
       "  <tbody>\n",
       "    <tr>\n",
       "      <th>0</th>\n",
       "      <td>0x0001f1c389823f953b2eaee0a61c33539744da0c</td>\n",
       "      <td>2018-01-01</td>\n",
       "      <td>0</td>\n",
       "    </tr>\n",
       "    <tr>\n",
       "      <th>1</th>\n",
       "      <td>0x0001f1c389823f953b2eaee0a61c33539744da0c</td>\n",
       "      <td>2018-01-02</td>\n",
       "      <td>0</td>\n",
       "    </tr>\n",
       "    <tr>\n",
       "      <th>2</th>\n",
       "      <td>0x0001f1c389823f953b2eaee0a61c33539744da0c</td>\n",
       "      <td>2018-01-03</td>\n",
       "      <td>0</td>\n",
       "    </tr>\n",
       "    <tr>\n",
       "      <th>3</th>\n",
       "      <td>0x0001f1c389823f953b2eaee0a61c33539744da0c</td>\n",
       "      <td>2018-01-04</td>\n",
       "      <td>0</td>\n",
       "    </tr>\n",
       "    <tr>\n",
       "      <th>4</th>\n",
       "      <td>0x0001f1c389823f953b2eaee0a61c33539744da0c</td>\n",
       "      <td>2018-01-05</td>\n",
       "      <td>0</td>\n",
       "    </tr>\n",
       "  </tbody>\n",
       "</table>\n",
       "</div>"
      ],
      "text/plain": [
       "                                     meter_id       date meter_reading\n",
       "0  0x0001f1c389823f953b2eaee0a61c33539744da0c 2018-01-01             0\n",
       "1  0x0001f1c389823f953b2eaee0a61c33539744da0c 2018-01-02             0\n",
       "2  0x0001f1c389823f953b2eaee0a61c33539744da0c 2018-01-03             0\n",
       "3  0x0001f1c389823f953b2eaee0a61c33539744da0c 2018-01-04             0\n",
       "4  0x0001f1c389823f953b2eaee0a61c33539744da0c 2018-01-05             0"
      ]
     },
     "execution_count": 20,
     "metadata": {},
     "output_type": "execute_result"
    }
   ],
   "source": [
    "test_start = datetime(2018, 1, 1)\n",
    "test_end = datetime(2018, 12, 31)\n",
    "test_date_range = pd.date_range(test_start, test_end)\n",
    "\n",
    "df_test = pd.DataFrame(columns=[\"meter_id\", \"date\", \"meter_reading\"])\n",
    "\n",
    "for meter_idx in tqdm(df[\"meter_id\"].values):\n",
    "    \n",
    "    df_meter_idx = pd.DataFrame(columns=[\"meter_id\", \"date\", \"meter_reading\"])\n",
    "\n",
    "    df_meter_idx[\"date\"] = test_date_range\n",
    "    df_meter_idx[\"meter_id\"] = meter_idx\n",
    "    df_meter_idx[\"meter_reading\"] = 0 # target\n",
    "\n",
    "    df_test = pd.concat([df_test, df_meter_idx]).reset_index(drop=True)\n",
    "\n",
    "df_test = df_test.sort_values([\"meter_id\", \"date\"]).reset_index(drop=True)\n",
    "\n",
    "print(df_test.shape)\n",
    "df_test.head()"
   ]
  },
  {
   "cell_type": "code",
   "execution_count": 21,
   "metadata": {
    "ExecuteTime": {
     "end_time": "2020-11-22T21:36:19.472053Z",
     "start_time": "2020-11-22T21:36:19.258938Z"
    }
   },
   "outputs": [
    {
     "name": "stdout",
     "output_type": "stream",
     "text": [
      "(1185520, 6)\n"
     ]
    },
    {
     "data": {
      "text/html": [
       "<div>\n",
       "<style scoped>\n",
       "    .dataframe tbody tr th:only-of-type {\n",
       "        vertical-align: middle;\n",
       "    }\n",
       "\n",
       "    .dataframe tbody tr th {\n",
       "        vertical-align: top;\n",
       "    }\n",
       "\n",
       "    .dataframe thead th {\n",
       "        text-align: right;\n",
       "    }\n",
       "</style>\n",
       "<table border=\"1\" class=\"dataframe\">\n",
       "  <thead>\n",
       "    <tr style=\"text-align: right;\">\n",
       "      <th></th>\n",
       "      <th>meter_id</th>\n",
       "      <th>date</th>\n",
       "      <th>meter_reading</th>\n",
       "      <th>month</th>\n",
       "      <th>day_of_month</th>\n",
       "      <th>day_of_week</th>\n",
       "    </tr>\n",
       "  </thead>\n",
       "  <tbody>\n",
       "    <tr>\n",
       "      <th>0</th>\n",
       "      <td>0x0001f1c389823f953b2eaee0a61c33539744da0c</td>\n",
       "      <td>2018-01-01</td>\n",
       "      <td>0</td>\n",
       "      <td>1</td>\n",
       "      <td>1</td>\n",
       "      <td>0</td>\n",
       "    </tr>\n",
       "    <tr>\n",
       "      <th>1</th>\n",
       "      <td>0x0001f1c389823f953b2eaee0a61c33539744da0c</td>\n",
       "      <td>2018-01-02</td>\n",
       "      <td>0</td>\n",
       "      <td>1</td>\n",
       "      <td>2</td>\n",
       "      <td>1</td>\n",
       "    </tr>\n",
       "    <tr>\n",
       "      <th>2</th>\n",
       "      <td>0x0001f1c389823f953b2eaee0a61c33539744da0c</td>\n",
       "      <td>2018-01-03</td>\n",
       "      <td>0</td>\n",
       "      <td>1</td>\n",
       "      <td>3</td>\n",
       "      <td>2</td>\n",
       "    </tr>\n",
       "    <tr>\n",
       "      <th>3</th>\n",
       "      <td>0x0001f1c389823f953b2eaee0a61c33539744da0c</td>\n",
       "      <td>2018-01-04</td>\n",
       "      <td>0</td>\n",
       "      <td>1</td>\n",
       "      <td>4</td>\n",
       "      <td>3</td>\n",
       "    </tr>\n",
       "    <tr>\n",
       "      <th>4</th>\n",
       "      <td>0x0001f1c389823f953b2eaee0a61c33539744da0c</td>\n",
       "      <td>2018-01-05</td>\n",
       "      <td>0</td>\n",
       "      <td>1</td>\n",
       "      <td>5</td>\n",
       "      <td>4</td>\n",
       "    </tr>\n",
       "  </tbody>\n",
       "</table>\n",
       "</div>"
      ],
      "text/plain": [
       "                                     meter_id       date meter_reading  month  \\\n",
       "0  0x0001f1c389823f953b2eaee0a61c33539744da0c 2018-01-01             0      1   \n",
       "1  0x0001f1c389823f953b2eaee0a61c33539744da0c 2018-01-02             0      1   \n",
       "2  0x0001f1c389823f953b2eaee0a61c33539744da0c 2018-01-03             0      1   \n",
       "3  0x0001f1c389823f953b2eaee0a61c33539744da0c 2018-01-04             0      1   \n",
       "4  0x0001f1c389823f953b2eaee0a61c33539744da0c 2018-01-05             0      1   \n",
       "\n",
       "   day_of_month  day_of_week  \n",
       "0             1            0  \n",
       "1             2            1  \n",
       "2             3            2  \n",
       "3             4            3  \n",
       "4             5            4  "
      ]
     },
     "execution_count": 21,
     "metadata": {},
     "output_type": "execute_result"
    }
   ],
   "source": [
    "df_test[\"month\"] = df_test[\"date\"].dt.month.astype(int)\n",
    "df_test[\"day_of_month\"] = df_test[\"date\"].dt.day.astype(int)\n",
    "df_test[\"day_of_week\"] = df_test[\"date\"].dt.dayofweek.astype(int)\n",
    "\n",
    "print(df_test.shape)\n",
    "df_test.head()"
   ]
  },
  {
   "cell_type": "code",
   "execution_count": 22,
   "metadata": {
    "ExecuteTime": {
     "end_time": "2020-11-22T21:36:19.617079Z",
     "start_time": "2020-11-22T21:36:19.472879Z"
    }
   },
   "outputs": [
    {
     "name": "stdout",
     "output_type": "stream",
     "text": [
      "(1185520, 7)\n"
     ]
    },
    {
     "data": {
      "text/html": [
       "<div>\n",
       "<style scoped>\n",
       "    .dataframe tbody tr th:only-of-type {\n",
       "        vertical-align: middle;\n",
       "    }\n",
       "\n",
       "    .dataframe tbody tr th {\n",
       "        vertical-align: top;\n",
       "    }\n",
       "\n",
       "    .dataframe thead th {\n",
       "        text-align: right;\n",
       "    }\n",
       "</style>\n",
       "<table border=\"1\" class=\"dataframe\">\n",
       "  <thead>\n",
       "    <tr style=\"text-align: right;\">\n",
       "      <th></th>\n",
       "      <th>meter_id</th>\n",
       "      <th>date</th>\n",
       "      <th>meter_reading</th>\n",
       "      <th>month</th>\n",
       "      <th>day_of_month</th>\n",
       "      <th>day_of_week</th>\n",
       "      <th>meter_reading_mean</th>\n",
       "    </tr>\n",
       "  </thead>\n",
       "  <tbody>\n",
       "    <tr>\n",
       "      <th>0</th>\n",
       "      <td>0x0001f1c389823f953b2eaee0a61c33539744da0c</td>\n",
       "      <td>2018-01-01</td>\n",
       "      <td>0</td>\n",
       "      <td>1</td>\n",
       "      <td>1</td>\n",
       "      <td>0</td>\n",
       "      <td>3.241</td>\n",
       "    </tr>\n",
       "    <tr>\n",
       "      <th>1</th>\n",
       "      <td>0x0001f1c389823f953b2eaee0a61c33539744da0c</td>\n",
       "      <td>2018-01-02</td>\n",
       "      <td>0</td>\n",
       "      <td>1</td>\n",
       "      <td>2</td>\n",
       "      <td>1</td>\n",
       "      <td>3.241</td>\n",
       "    </tr>\n",
       "    <tr>\n",
       "      <th>2</th>\n",
       "      <td>0x0001f1c389823f953b2eaee0a61c33539744da0c</td>\n",
       "      <td>2018-01-03</td>\n",
       "      <td>0</td>\n",
       "      <td>1</td>\n",
       "      <td>3</td>\n",
       "      <td>2</td>\n",
       "      <td>3.241</td>\n",
       "    </tr>\n",
       "    <tr>\n",
       "      <th>3</th>\n",
       "      <td>0x0001f1c389823f953b2eaee0a61c33539744da0c</td>\n",
       "      <td>2018-01-04</td>\n",
       "      <td>0</td>\n",
       "      <td>1</td>\n",
       "      <td>4</td>\n",
       "      <td>3</td>\n",
       "      <td>3.241</td>\n",
       "    </tr>\n",
       "    <tr>\n",
       "      <th>4</th>\n",
       "      <td>0x0001f1c389823f953b2eaee0a61c33539744da0c</td>\n",
       "      <td>2018-01-05</td>\n",
       "      <td>0</td>\n",
       "      <td>1</td>\n",
       "      <td>5</td>\n",
       "      <td>4</td>\n",
       "      <td>3.241</td>\n",
       "    </tr>\n",
       "  </tbody>\n",
       "</table>\n",
       "</div>"
      ],
      "text/plain": [
       "                                     meter_id       date meter_reading  month  \\\n",
       "0  0x0001f1c389823f953b2eaee0a61c33539744da0c 2018-01-01             0      1   \n",
       "1  0x0001f1c389823f953b2eaee0a61c33539744da0c 2018-01-02             0      1   \n",
       "2  0x0001f1c389823f953b2eaee0a61c33539744da0c 2018-01-03             0      1   \n",
       "3  0x0001f1c389823f953b2eaee0a61c33539744da0c 2018-01-04             0      1   \n",
       "4  0x0001f1c389823f953b2eaee0a61c33539744da0c 2018-01-05             0      1   \n",
       "\n",
       "   day_of_month  day_of_week  meter_reading_mean  \n",
       "0             1            0               3.241  \n",
       "1             2            1               3.241  \n",
       "2             3            2               3.241  \n",
       "3             4            3               3.241  \n",
       "4             5            4               3.241  "
      ]
     },
     "execution_count": 22,
     "metadata": {},
     "output_type": "execute_result"
    }
   ],
   "source": [
    "# mean year meter reading\n",
    "df_test = df_test.merge(meter_reading_mean, on=\"meter_id\", how=\"left\")\n",
    "df_test[\"meter_reading_mean\"].fillna(0, inplace=True)\n",
    "\n",
    "print(df_test.shape)\n",
    "df_test.head()"
   ]
  },
  {
   "cell_type": "code",
   "execution_count": 23,
   "metadata": {
    "ExecuteTime": {
     "end_time": "2020-11-22T21:36:19.620494Z",
     "start_time": "2020-11-22T21:36:19.618611Z"
    }
   },
   "outputs": [
    {
     "name": "stdout",
     "output_type": "stream",
     "text": [
      "(629924, 7) (1185520, 7)\n"
     ]
    }
   ],
   "source": [
    "print(df_train.shape, df_test.shape)\n",
    "\n",
    "# df_train.to_pickle(\"../input/df_train_clean.pkl\")\n",
    "# df_test.to_pickle(\"../input/df_test_clean.pkl\")\n",
    "# print(\"train/test saved to pickle!\")"
   ]
  },
  {
   "cell_type": "code",
   "execution_count": null,
   "metadata": {},
   "outputs": [],
   "source": []
  },
  {
   "cell_type": "code",
   "execution_count": null,
   "metadata": {},
   "outputs": [],
   "source": []
  },
  {
   "cell_type": "code",
   "execution_count": null,
   "metadata": {},
   "outputs": [],
   "source": []
  },
  {
   "cell_type": "code",
   "execution_count": null,
   "metadata": {},
   "outputs": [],
   "source": []
  },
  {
   "cell_type": "code",
   "execution_count": null,
   "metadata": {},
   "outputs": [],
   "source": []
  }
 ],
 "metadata": {
  "kernelspec": {
   "display_name": "Python 3",
   "language": "python",
   "name": "python3"
  },
  "language_info": {
   "codemirror_mode": {
    "name": "ipython",
    "version": 3
   },
   "file_extension": ".py",
   "mimetype": "text/x-python",
   "name": "python",
   "nbconvert_exporter": "python",
   "pygments_lexer": "ipython3",
   "version": "3.7.5"
  },
  "toc": {
   "base_numbering": 1,
   "nav_menu": {},
   "number_sections": true,
   "sideBar": true,
   "skip_h1_title": false,
   "title_cell": "Table of Contents",
   "title_sidebar": "Contents",
   "toc_cell": false,
   "toc_position": {},
   "toc_section_display": true,
   "toc_window_display": false
  }
 },
 "nbformat": 4,
 "nbformat_minor": 4
}

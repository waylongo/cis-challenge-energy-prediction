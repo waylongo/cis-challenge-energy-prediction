{
 "cells": [
  {
   "cell_type": "code",
   "execution_count": 1,
   "metadata": {
    "ExecuteTime": {
     "end_time": "2020-11-22T22:21:32.504308Z",
     "start_time": "2020-11-22T22:21:32.197967Z"
    }
   },
   "outputs": [
    {
     "name": "stdout",
     "output_type": "stream",
     "text": [
      "(3248, 13)\n"
     ]
    },
    {
     "data": {
      "text/html": [
       "<div>\n",
       "<style scoped>\n",
       "    .dataframe tbody tr th:only-of-type {\n",
       "        vertical-align: middle;\n",
       "    }\n",
       "\n",
       "    .dataframe tbody tr th {\n",
       "        vertical-align: top;\n",
       "    }\n",
       "\n",
       "    .dataframe thead th {\n",
       "        text-align: right;\n",
       "    }\n",
       "</style>\n",
       "<table border=\"1\" class=\"dataframe\">\n",
       "  <thead>\n",
       "    <tr style=\"text-align: right;\">\n",
       "      <th></th>\n",
       "      <th>meter_id</th>\n",
       "      <th>Jan</th>\n",
       "      <th>Feb</th>\n",
       "      <th>Mar</th>\n",
       "      <th>Apr</th>\n",
       "      <th>May</th>\n",
       "      <th>Jun</th>\n",
       "      <th>Jul</th>\n",
       "      <th>Aug</th>\n",
       "      <th>Sep</th>\n",
       "      <th>Oct</th>\n",
       "      <th>Nov</th>\n",
       "      <th>Dec</th>\n",
       "    </tr>\n",
       "  </thead>\n",
       "  <tbody>\n",
       "    <tr>\n",
       "      <th>0</th>\n",
       "      <td>0x0001f1c389823f953b2eaee0a61c33539744da0c</td>\n",
       "      <td>116.0</td>\n",
       "      <td>106.0</td>\n",
       "      <td>107.0</td>\n",
       "      <td>112.0</td>\n",
       "      <td>104.0</td>\n",
       "      <td>118.0</td>\n",
       "      <td>109.0</td>\n",
       "      <td>121.0</td>\n",
       "      <td>106.0</td>\n",
       "      <td>100.0</td>\n",
       "      <td>85.0</td>\n",
       "      <td>85.0</td>\n",
       "    </tr>\n",
       "    <tr>\n",
       "      <th>1</th>\n",
       "      <td>0x000f697092696c27b0bb489ea4c11280ef72ab82</td>\n",
       "      <td>662.0</td>\n",
       "      <td>589.0</td>\n",
       "      <td>585.0</td>\n",
       "      <td>531.0</td>\n",
       "      <td>404.0</td>\n",
       "      <td>431.0</td>\n",
       "      <td>410.0</td>\n",
       "      <td>437.0</td>\n",
       "      <td>427.0</td>\n",
       "      <td>424.0</td>\n",
       "      <td>579.0</td>\n",
       "      <td>482.0</td>\n",
       "    </tr>\n",
       "    <tr>\n",
       "      <th>2</th>\n",
       "      <td>0x0019979ee12c59accd24d1c83291528ced1bb734</td>\n",
       "      <td>225.0</td>\n",
       "      <td>206.0</td>\n",
       "      <td>210.0</td>\n",
       "      <td>200.0</td>\n",
       "      <td>160.0</td>\n",
       "      <td>187.0</td>\n",
       "      <td>180.0</td>\n",
       "      <td>185.0</td>\n",
       "      <td>167.0</td>\n",
       "      <td>159.0</td>\n",
       "      <td>201.0</td>\n",
       "      <td>180.0</td>\n",
       "    </tr>\n",
       "    <tr>\n",
       "      <th>3</th>\n",
       "      <td>0x001d6227832325ab6167b82d6d7175d254f57c3a</td>\n",
       "      <td>155.0</td>\n",
       "      <td>144.0</td>\n",
       "      <td>143.0</td>\n",
       "      <td>123.0</td>\n",
       "      <td>101.0</td>\n",
       "      <td>112.0</td>\n",
       "      <td>113.0</td>\n",
       "      <td>119.0</td>\n",
       "      <td>113.0</td>\n",
       "      <td>106.0</td>\n",
       "      <td>143.0</td>\n",
       "      <td>120.0</td>\n",
       "    </tr>\n",
       "    <tr>\n",
       "      <th>4</th>\n",
       "      <td>0x005958406351bb29580475df698b5f1070096397</td>\n",
       "      <td>376.0</td>\n",
       "      <td>352.0</td>\n",
       "      <td>348.0</td>\n",
       "      <td>302.0</td>\n",
       "      <td>248.0</td>\n",
       "      <td>268.0</td>\n",
       "      <td>267.0</td>\n",
       "      <td>274.0</td>\n",
       "      <td>261.0</td>\n",
       "      <td>255.0</td>\n",
       "      <td>347.0</td>\n",
       "      <td>294.0</td>\n",
       "    </tr>\n",
       "  </tbody>\n",
       "</table>\n",
       "</div>"
      ],
      "text/plain": [
       "                                     meter_id    Jan    Feb    Mar    Apr  \\\n",
       "0  0x0001f1c389823f953b2eaee0a61c33539744da0c  116.0  106.0  107.0  112.0   \n",
       "1  0x000f697092696c27b0bb489ea4c11280ef72ab82  662.0  589.0  585.0  531.0   \n",
       "2  0x0019979ee12c59accd24d1c83291528ced1bb734  225.0  206.0  210.0  200.0   \n",
       "3  0x001d6227832325ab6167b82d6d7175d254f57c3a  155.0  144.0  143.0  123.0   \n",
       "4  0x005958406351bb29580475df698b5f1070096397  376.0  352.0  348.0  302.0   \n",
       "\n",
       "     May    Jun    Jul    Aug    Sep    Oct    Nov    Dec  \n",
       "0  104.0  118.0  109.0  121.0  106.0  100.0   85.0   85.0  \n",
       "1  404.0  431.0  410.0  437.0  427.0  424.0  579.0  482.0  \n",
       "2  160.0  187.0  180.0  185.0  167.0  159.0  201.0  180.0  \n",
       "3  101.0  112.0  113.0  119.0  113.0  106.0  143.0  120.0  \n",
       "4  248.0  268.0  267.0  274.0  261.0  255.0  347.0  294.0  "
      ]
     },
     "execution_count": 1,
     "metadata": {},
     "output_type": "execute_result"
    }
   ],
   "source": [
    "import numpy as np\n",
    "import pandas as pd\n",
    "import matplotlib.pyplot as plt\n",
    "from suspicious_meter import modify_suspicious_meter\n",
    "\n",
    "sub = pd.read_csv(\"../submissions/lgb_baseline_clean.csv\")\n",
    "\n",
    "month_cols = [\"Jan\", \"Feb\", \"Mar\", \"Apr\", \"May\", \"Jun\", \"Jul\", \"Aug\", \"Sep\", \"Oct\", \"Nov\", \"Dec\"]\n",
    "\n",
    "print(sub.shape)\n",
    "sub.head()"
   ]
  },
  {
   "cell_type": "code",
   "execution_count": 2,
   "metadata": {
    "ExecuteTime": {
     "end_time": "2020-11-22T22:21:32.569444Z",
     "start_time": "2020-11-22T22:21:32.505309Z"
    }
   },
   "outputs": [],
   "source": [
    "sub = modify_suspicious_meter(sub)\n",
    "\n",
    "sub[month_cols] = sub[month_cols].values.round()\n",
    "\n",
    "# sub.to_csv(\"../submissions/lgb_baseline_clean_post.csv\", index=False, header=True)"
   ]
  },
  {
   "cell_type": "code",
   "execution_count": 3,
   "metadata": {
    "ExecuteTime": {
     "end_time": "2020-11-22T22:21:32.592874Z",
     "start_time": "2020-11-22T22:21:32.571562Z"
    }
   },
   "outputs": [],
   "source": [
    "# move toward mean values\n",
    "sub_smo = sub.copy()\n",
    "\n",
    "for col in month_cols:\n",
    "    sub_smo[col] = sub[month_cols].mean(axis=1)\n",
    "    \n",
    "sub_smo[month_cols] = sub[month_cols] * 0.6 + sub_smo[month_cols] * 0.4\n",
    "\n",
    "sub_smo[month_cols] = sub_smo[month_cols].values.round()\n",
    "\n",
    "# sub_smo.to_csv(\"../submissions/lgb_baseline_clean_post_smo.csv\", index=False, header=True)"
   ]
  },
  {
   "cell_type": "code",
   "execution_count": 4,
   "metadata": {
    "ExecuteTime": {
     "end_time": "2020-11-22T22:21:32.595290Z",
     "start_time": "2020-11-22T22:21:32.593735Z"
    }
   },
   "outputs": [],
   "source": [
    "# go to ensemble.ipynb for more processing"
   ]
  },
  {
   "cell_type": "code",
   "execution_count": null,
   "metadata": {},
   "outputs": [],
   "source": []
  },
  {
   "cell_type": "code",
   "execution_count": null,
   "metadata": {},
   "outputs": [],
   "source": []
  },
  {
   "cell_type": "code",
   "execution_count": null,
   "metadata": {},
   "outputs": [],
   "source": []
  },
  {
   "cell_type": "code",
   "execution_count": null,
   "metadata": {},
   "outputs": [],
   "source": []
  },
  {
   "cell_type": "code",
   "execution_count": null,
   "metadata": {},
   "outputs": [],
   "source": []
  }
 ],
 "metadata": {
  "kernelspec": {
   "display_name": "Python 3",
   "language": "python",
   "name": "python3"
  },
  "language_info": {
   "codemirror_mode": {
    "name": "ipython",
    "version": 3
   },
   "file_extension": ".py",
   "mimetype": "text/x-python",
   "name": "python",
   "nbconvert_exporter": "python",
   "pygments_lexer": "ipython3",
   "version": "3.7.5"
  },
  "toc": {
   "base_numbering": 1,
   "nav_menu": {},
   "number_sections": true,
   "sideBar": true,
   "skip_h1_title": false,
   "title_cell": "Table of Contents",
   "title_sidebar": "Contents",
   "toc_cell": false,
   "toc_position": {},
   "toc_section_display": true,
   "toc_window_display": false
  }
 },
 "nbformat": 4,
 "nbformat_minor": 4
}

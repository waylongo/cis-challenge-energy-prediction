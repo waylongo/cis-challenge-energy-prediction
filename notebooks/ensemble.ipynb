{
 "cells": [
  {
   "cell_type": "code",
   "execution_count": 1,
   "metadata": {
    "ExecuteTime": {
     "end_time": "2020-11-22T21:49:11.710046Z",
     "start_time": "2020-11-22T21:49:11.518124Z"
    }
   },
   "outputs": [],
   "source": [
    "import pandas as pd\n",
    "month_cols = [\"Jan\", \"Feb\", \"Mar\", \"Apr\", \"May\", \"Jun\", \"Jul\", \"Aug\", \"Sep\", \"Oct\", \"Nov\", \"Dec\"]"
   ]
  },
  {
   "cell_type": "code",
   "execution_count": 2,
   "metadata": {
    "ExecuteTime": {
     "end_time": "2020-11-22T21:49:11.729087Z",
     "start_time": "2020-11-22T21:49:11.711372Z"
    }
   },
   "outputs": [
    {
     "name": "stdout",
     "output_type": "stream",
     "text": [
      "(3248, 13)\n",
      "(3248, 13)\n"
     ]
    }
   ],
   "source": [
    "sub_lgb = pd.read_csv(\"../submissions/lgb_baseline_clean_post_smo.csv\")\n",
    "sub_const = pd.read_csv(\"../submissions/mean_1112_pred_post.csv\")\n",
    "sub_lgb = sub_lgb.sort_values([\"meter_id\"]).reset_index(drop=True)\n",
    "sub_const = sub_const.sort_values([\"meter_id\"]).reset_index(drop=True)\n",
    "\n",
    "print(sub_lgb.shape)\n",
    "print(sub_const.shape)"
   ]
  },
  {
   "cell_type": "code",
   "execution_count": 3,
   "metadata": {
    "ExecuteTime": {
     "end_time": "2020-11-22T21:49:11.755291Z",
     "start_time": "2020-11-22T21:49:11.730416Z"
    }
   },
   "outputs": [
    {
     "name": "stdout",
     "output_type": "stream",
     "text": [
      "(3248, 13)\n"
     ]
    },
    {
     "data": {
      "text/html": [
       "<div>\n",
       "<style scoped>\n",
       "    .dataframe tbody tr th:only-of-type {\n",
       "        vertical-align: middle;\n",
       "    }\n",
       "\n",
       "    .dataframe tbody tr th {\n",
       "        vertical-align: top;\n",
       "    }\n",
       "\n",
       "    .dataframe thead th {\n",
       "        text-align: right;\n",
       "    }\n",
       "</style>\n",
       "<table border=\"1\" class=\"dataframe\">\n",
       "  <thead>\n",
       "    <tr style=\"text-align: right;\">\n",
       "      <th></th>\n",
       "      <th>meter_id</th>\n",
       "      <th>Jan</th>\n",
       "      <th>Feb</th>\n",
       "      <th>Mar</th>\n",
       "      <th>Apr</th>\n",
       "      <th>May</th>\n",
       "      <th>Jun</th>\n",
       "      <th>Jul</th>\n",
       "      <th>Aug</th>\n",
       "      <th>Sep</th>\n",
       "      <th>Oct</th>\n",
       "      <th>Nov</th>\n",
       "      <th>Dec</th>\n",
       "    </tr>\n",
       "  </thead>\n",
       "  <tbody>\n",
       "    <tr>\n",
       "      <th>0</th>\n",
       "      <td>0x0001f1c389823f953b2eaee0a61c33539744da0c</td>\n",
       "      <td>105.0</td>\n",
       "      <td>100.0</td>\n",
       "      <td>100.0</td>\n",
       "      <td>103.0</td>\n",
       "      <td>99.0</td>\n",
       "      <td>106.0</td>\n",
       "      <td>102.0</td>\n",
       "      <td>107.0</td>\n",
       "      <td>100.0</td>\n",
       "      <td>97.0</td>\n",
       "      <td>90.0</td>\n",
       "      <td>90.0</td>\n",
       "    </tr>\n",
       "    <tr>\n",
       "      <th>1</th>\n",
       "      <td>0x000f697092696c27b0bb489ea4c11280ef72ab82</td>\n",
       "      <td>583.0</td>\n",
       "      <td>548.0</td>\n",
       "      <td>546.0</td>\n",
       "      <td>520.0</td>\n",
       "      <td>459.0</td>\n",
       "      <td>472.0</td>\n",
       "      <td>462.0</td>\n",
       "      <td>475.0</td>\n",
       "      <td>470.0</td>\n",
       "      <td>469.0</td>\n",
       "      <td>543.0</td>\n",
       "      <td>497.0</td>\n",
       "    </tr>\n",
       "    <tr>\n",
       "      <th>2</th>\n",
       "      <td>0x0019979ee12c59accd24d1c83291528ced1bb734</td>\n",
       "      <td>205.0</td>\n",
       "      <td>196.0</td>\n",
       "      <td>198.0</td>\n",
       "      <td>193.0</td>\n",
       "      <td>174.0</td>\n",
       "      <td>187.0</td>\n",
       "      <td>183.0</td>\n",
       "      <td>186.0</td>\n",
       "      <td>178.0</td>\n",
       "      <td>174.0</td>\n",
       "      <td>194.0</td>\n",
       "      <td>183.0</td>\n",
       "    </tr>\n",
       "    <tr>\n",
       "      <th>3</th>\n",
       "      <td>0x001d6227832325ab6167b82d6d7175d254f57c3a</td>\n",
       "      <td>141.0</td>\n",
       "      <td>135.0</td>\n",
       "      <td>135.0</td>\n",
       "      <td>125.0</td>\n",
       "      <td>114.0</td>\n",
       "      <td>120.0</td>\n",
       "      <td>121.0</td>\n",
       "      <td>123.0</td>\n",
       "      <td>121.0</td>\n",
       "      <td>117.0</td>\n",
       "      <td>135.0</td>\n",
       "      <td>124.0</td>\n",
       "    </tr>\n",
       "    <tr>\n",
       "      <th>4</th>\n",
       "      <td>0x005958406351bb29580475df698b5f1070096397</td>\n",
       "      <td>333.0</td>\n",
       "      <td>322.0</td>\n",
       "      <td>320.0</td>\n",
       "      <td>298.0</td>\n",
       "      <td>272.0</td>\n",
       "      <td>282.0</td>\n",
       "      <td>281.0</td>\n",
       "      <td>284.0</td>\n",
       "      <td>278.0</td>\n",
       "      <td>276.0</td>\n",
       "      <td>320.0</td>\n",
       "      <td>294.0</td>\n",
       "    </tr>\n",
       "  </tbody>\n",
       "</table>\n",
       "</div>"
      ],
      "text/plain": [
       "                                     meter_id    Jan    Feb    Mar    Apr  \\\n",
       "0  0x0001f1c389823f953b2eaee0a61c33539744da0c  105.0  100.0  100.0  103.0   \n",
       "1  0x000f697092696c27b0bb489ea4c11280ef72ab82  583.0  548.0  546.0  520.0   \n",
       "2  0x0019979ee12c59accd24d1c83291528ced1bb734  205.0  196.0  198.0  193.0   \n",
       "3  0x001d6227832325ab6167b82d6d7175d254f57c3a  141.0  135.0  135.0  125.0   \n",
       "4  0x005958406351bb29580475df698b5f1070096397  333.0  322.0  320.0  298.0   \n",
       "\n",
       "     May    Jun    Jul    Aug    Sep    Oct    Nov    Dec  \n",
       "0   99.0  106.0  102.0  107.0  100.0   97.0   90.0   90.0  \n",
       "1  459.0  472.0  462.0  475.0  470.0  469.0  543.0  497.0  \n",
       "2  174.0  187.0  183.0  186.0  178.0  174.0  194.0  183.0  \n",
       "3  114.0  120.0  121.0  123.0  121.0  117.0  135.0  124.0  \n",
       "4  272.0  282.0  281.0  284.0  278.0  276.0  320.0  294.0  "
      ]
     },
     "execution_count": 3,
     "metadata": {},
     "output_type": "execute_result"
    }
   ],
   "source": [
    "sub = sub_lgb.copy()\n",
    "sub[month_cols] = 0.8 * sub_lgb[month_cols] + 0.2 * sub_const[month_cols] \n",
    "\n",
    "print(sub.shape)\n",
    "sub[month_cols] = sub[month_cols].values.round()\n",
    "# sub.to_csv(\"../submissions/lgb_mean_ensemble.csv\", index=False, header=True)\n",
    "sub.head()"
   ]
  },
  {
   "cell_type": "code",
   "execution_count": 4,
   "metadata": {
    "ExecuteTime": {
     "end_time": "2020-11-22T21:49:11.776207Z",
     "start_time": "2020-11-22T21:49:11.756375Z"
    }
   },
   "outputs": [],
   "source": [
    "# smooth\n",
    "sub_copy = sub.copy()\n",
    "\n",
    "df = pd.read_pickle(\"../input/consumption_month.pkl\")\n",
    "sub = sub.merge(df, on=\"meter_id\")\n",
    "\n",
    "sub_copy[\"Jan\"] = (sub[\"2017-12\"] + sub[\"Jan\"] + sub[\"Feb\"]) / 3\n",
    "sub_copy[\"Feb\"] = (sub[\"Jan\"] + sub[\"Feb\"] + sub[\"Mar\"]) / 3\n",
    "sub_copy[\"Mar\"] = (sub[\"Feb\"] + sub[\"Mar\"] + sub[\"Apr\"]) / 3\n",
    "sub_copy[\"Apr\"] = (sub[\"Mar\"] + sub[\"Apr\"] + sub[\"Jun\"]) / 3\n",
    "sub_copy[\"May\"] = (sub[\"Apr\"] + sub[\"May\"] + sub[\"Jun\"]) / 3\n",
    "sub_copy[\"Jun\"] = (sub[\"May\"] + sub[\"Jun\"] + sub[\"Jul\"]) / 3\n",
    "sub_copy[\"Jul\"] = (sub[\"Jun\"] + sub[\"Jul\"] + sub[\"Aug\"]) / 3\n",
    "sub_copy[\"Aug\"] = (sub[\"Jul\"] + sub[\"Aug\"] + sub[\"Sep\"]) / 3\n",
    "sub_copy[\"Sep\"] = (sub[\"Aug\"] + sub[\"Sep\"] + sub[\"Oct\"]) / 3\n",
    "sub_copy[\"Oct\"] = (sub[\"Sep\"] + sub[\"Oct\"] + sub[\"Nov\"]) / 3\n",
    "sub_copy[\"Nov\"] = (sub[\"Oct\"] + sub[\"Nov\"] + sub[\"Dec\"]) / 3\n",
    "sub_copy[\"Dec\"] = (sub[\"Nov\"] + sub[\"Dec\"]) / 2\n",
    "\n",
    "sub_copy[month_cols] = sub_copy[month_cols].values.round()\n",
    "# sub_copy.to_csv(\"../submissions/lgb_mean_ensemble_smo.csv\", index=False, header=True)"
   ]
  },
  {
   "cell_type": "code",
   "execution_count": 5,
   "metadata": {
    "ExecuteTime": {
     "end_time": "2020-11-22T21:49:11.785048Z",
     "start_time": "2020-11-22T21:49:11.777210Z"
    }
   },
   "outputs": [],
   "source": [
    "sub_scale = sub_copy.copy()\n",
    "\n",
    "# up-scaling for summer season and down-scaling for winter season\n",
    "scaler = [1.1, 1.05, 1.1, 1.05, 1.0, 1.0, 1.0, 0.75, 1, 0.95, 1.15, 1.15]\n",
    "for idx, col in enumerate(month_cols):\n",
    "    sub_scale.loc[:, col] *= scaler[idx]\n",
    "\n",
    "# sub_scale.to_csv(f\"../submissions/lgb_baseline_clean_post_smo_scale.csv\", index=False, header=True)"
   ]
  },
  {
   "cell_type": "code",
   "execution_count": null,
   "metadata": {},
   "outputs": [],
   "source": []
  },
  {
   "cell_type": "code",
   "execution_count": null,
   "metadata": {},
   "outputs": [],
   "source": []
  },
  {
   "cell_type": "code",
   "execution_count": null,
   "metadata": {},
   "outputs": [],
   "source": []
  },
  {
   "cell_type": "code",
   "execution_count": null,
   "metadata": {},
   "outputs": [],
   "source": []
  },
  {
   "cell_type": "code",
   "execution_count": null,
   "metadata": {},
   "outputs": [],
   "source": []
  }
 ],
 "metadata": {
  "kernelspec": {
   "display_name": "Python 3",
   "language": "python",
   "name": "python3"
  },
  "language_info": {
   "codemirror_mode": {
    "name": "ipython",
    "version": 3
   },
   "file_extension": ".py",
   "mimetype": "text/x-python",
   "name": "python",
   "nbconvert_exporter": "python",
   "pygments_lexer": "ipython3",
   "version": "3.7.5"
  },
  "toc": {
   "base_numbering": 1,
   "nav_menu": {},
   "number_sections": true,
   "sideBar": true,
   "skip_h1_title": false,
   "title_cell": "Table of Contents",
   "title_sidebar": "Contents",
   "toc_cell": false,
   "toc_position": {},
   "toc_section_display": true,
   "toc_window_display": false
  }
 },
 "nbformat": 4,
 "nbformat_minor": 4
}

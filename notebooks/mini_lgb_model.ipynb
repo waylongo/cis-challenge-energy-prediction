{
 "cells": [
  {
   "cell_type": "code",
   "execution_count": 1,
   "metadata": {
    "ExecuteTime": {
     "end_time": "2020-11-13T19:18:43.238083Z",
     "start_time": "2020-11-13T19:18:42.617820Z"
    }
   },
   "outputs": [],
   "source": [
    "import numpy as np\n",
    "import pandas as pd\n",
    "import matplotlib.pyplot as plt\n",
    "from tqdm import tqdm_notebook as tqdm\n",
    "from datetime import datetime\n",
    "from sklearn.model_selection import KFold, StratifiedKFold\n",
    "from sklearn import preprocessing\n",
    "import lightgbm as lgb\n",
    "from sklearn.metrics import mean_absolute_error\n",
    "\n",
    "import warnings\n",
    "warnings.filterwarnings(\"ignore\")\n",
    "pd.set_option('display.max_rows', 100)"
   ]
  },
  {
   "cell_type": "code",
   "execution_count": 2,
   "metadata": {
    "ExecuteTime": {
     "end_time": "2020-11-13T19:18:43.245488Z",
     "start_time": "2020-11-13T19:18:43.239269Z"
    }
   },
   "outputs": [],
   "source": [
    "df = pd.read_pickle(\"../input/consumption_month.pkl\")\n",
    "df[\"cluster\"] = 0\n",
    "\n",
    "cluster_cut = [0, 271, 542, 813, 1084, 1355, 1626, 1897, 2168, 2438, 2708, 2978, 3248]\n",
    "for i in range(12):\n",
    "    df.loc[cluster_cut[i]:cluster_cut[i+1], \"cluster\"] = i"
   ]
  },
  {
   "cell_type": "code",
   "execution_count": 3,
   "metadata": {
    "ExecuteTime": {
     "end_time": "2020-11-13T19:18:43.405550Z",
     "start_time": "2020-11-13T19:18:43.246348Z"
    }
   },
   "outputs": [
    {
     "name": "stdout",
     "output_type": "stream",
     "text": [
      "(627584, 7) (1185520, 7)\n"
     ]
    },
    {
     "data": {
      "text/html": [
       "<div>\n",
       "<style scoped>\n",
       "    .dataframe tbody tr th:only-of-type {\n",
       "        vertical-align: middle;\n",
       "    }\n",
       "\n",
       "    .dataframe tbody tr th {\n",
       "        vertical-align: top;\n",
       "    }\n",
       "\n",
       "    .dataframe thead th {\n",
       "        text-align: right;\n",
       "    }\n",
       "</style>\n",
       "<table border=\"1\" class=\"dataframe\">\n",
       "  <thead>\n",
       "    <tr style=\"text-align: right;\">\n",
       "      <th></th>\n",
       "      <th>meter_id</th>\n",
       "      <th>date</th>\n",
       "      <th>meter_reading</th>\n",
       "      <th>month</th>\n",
       "      <th>day_of_month</th>\n",
       "      <th>day_of_week</th>\n",
       "      <th>meter_reading_mean</th>\n",
       "    </tr>\n",
       "  </thead>\n",
       "  <tbody>\n",
       "    <tr>\n",
       "      <th>0</th>\n",
       "      <td>0x0001f1c389823f953b2eaee0a61c33539744da0c</td>\n",
       "      <td>2017-08-01</td>\n",
       "      <td>4.143</td>\n",
       "      <td>8</td>\n",
       "      <td>1</td>\n",
       "      <td>1</td>\n",
       "      <td>3.241</td>\n",
       "    </tr>\n",
       "    <tr>\n",
       "      <th>1</th>\n",
       "      <td>0x0001f1c389823f953b2eaee0a61c33539744da0c</td>\n",
       "      <td>2017-08-02</td>\n",
       "      <td>4.116</td>\n",
       "      <td>8</td>\n",
       "      <td>2</td>\n",
       "      <td>2</td>\n",
       "      <td>3.241</td>\n",
       "    </tr>\n",
       "    <tr>\n",
       "      <th>2</th>\n",
       "      <td>0x0001f1c389823f953b2eaee0a61c33539744da0c</td>\n",
       "      <td>2017-08-03</td>\n",
       "      <td>4.101</td>\n",
       "      <td>8</td>\n",
       "      <td>3</td>\n",
       "      <td>3</td>\n",
       "      <td>3.241</td>\n",
       "    </tr>\n",
       "    <tr>\n",
       "      <th>3</th>\n",
       "      <td>0x0001f1c389823f953b2eaee0a61c33539744da0c</td>\n",
       "      <td>2017-08-04</td>\n",
       "      <td>4.124</td>\n",
       "      <td>8</td>\n",
       "      <td>4</td>\n",
       "      <td>4</td>\n",
       "      <td>3.241</td>\n",
       "    </tr>\n",
       "    <tr>\n",
       "      <th>4</th>\n",
       "      <td>0x0001f1c389823f953b2eaee0a61c33539744da0c</td>\n",
       "      <td>2017-08-05</td>\n",
       "      <td>4.111</td>\n",
       "      <td>8</td>\n",
       "      <td>5</td>\n",
       "      <td>5</td>\n",
       "      <td>3.241</td>\n",
       "    </tr>\n",
       "  </tbody>\n",
       "</table>\n",
       "</div>"
      ],
      "text/plain": [
       "                                     meter_id       date  meter_reading  \\\n",
       "0  0x0001f1c389823f953b2eaee0a61c33539744da0c 2017-08-01          4.143   \n",
       "1  0x0001f1c389823f953b2eaee0a61c33539744da0c 2017-08-02          4.116   \n",
       "2  0x0001f1c389823f953b2eaee0a61c33539744da0c 2017-08-03          4.101   \n",
       "3  0x0001f1c389823f953b2eaee0a61c33539744da0c 2017-08-04          4.124   \n",
       "4  0x0001f1c389823f953b2eaee0a61c33539744da0c 2017-08-05          4.111   \n",
       "\n",
       "   month  day_of_month  day_of_week  meter_reading_mean  \n",
       "0      8             1            1               3.241  \n",
       "1      8             2            2               3.241  \n",
       "2      8             3            3               3.241  \n",
       "3      8             4            4               3.241  \n",
       "4      8             5            5               3.241  "
      ]
     },
     "execution_count": 3,
     "metadata": {},
     "output_type": "execute_result"
    }
   ],
   "source": [
    "df_train = pd.read_pickle(\"../input/df_train_clean.pkl\")\n",
    "df_test = pd.read_pickle(\"../input/df_test_clean.pkl\")\n",
    "\n",
    "print(df_train.shape, df_test.shape)\n",
    "df_train.head()"
   ]
  },
  {
   "cell_type": "code",
   "execution_count": 4,
   "metadata": {
    "ExecuteTime": {
     "end_time": "2020-11-13T19:18:43.574919Z",
     "start_time": "2020-11-13T19:18:43.406394Z"
    }
   },
   "outputs": [
    {
     "data": {
      "text/html": [
       "<div>\n",
       "<style scoped>\n",
       "    .dataframe tbody tr th:only-of-type {\n",
       "        vertical-align: middle;\n",
       "    }\n",
       "\n",
       "    .dataframe tbody tr th {\n",
       "        vertical-align: top;\n",
       "    }\n",
       "\n",
       "    .dataframe thead th {\n",
       "        text-align: right;\n",
       "    }\n",
       "</style>\n",
       "<table border=\"1\" class=\"dataframe\">\n",
       "  <thead>\n",
       "    <tr style=\"text-align: right;\">\n",
       "      <th></th>\n",
       "      <th>meter_id</th>\n",
       "      <th>date</th>\n",
       "      <th>meter_reading</th>\n",
       "      <th>month</th>\n",
       "      <th>day_of_month</th>\n",
       "      <th>day_of_week</th>\n",
       "      <th>meter_reading_mean</th>\n",
       "      <th>meter_id_code</th>\n",
       "    </tr>\n",
       "  </thead>\n",
       "  <tbody>\n",
       "    <tr>\n",
       "      <th>0</th>\n",
       "      <td>0x0001f1c389823f953b2eaee0a61c33539744da0c</td>\n",
       "      <td>2017-08-01</td>\n",
       "      <td>4.143</td>\n",
       "      <td>8</td>\n",
       "      <td>1</td>\n",
       "      <td>1</td>\n",
       "      <td>3.241</td>\n",
       "      <td>0</td>\n",
       "    </tr>\n",
       "    <tr>\n",
       "      <th>1</th>\n",
       "      <td>0x0001f1c389823f953b2eaee0a61c33539744da0c</td>\n",
       "      <td>2017-08-02</td>\n",
       "      <td>4.116</td>\n",
       "      <td>8</td>\n",
       "      <td>2</td>\n",
       "      <td>2</td>\n",
       "      <td>3.241</td>\n",
       "      <td>0</td>\n",
       "    </tr>\n",
       "    <tr>\n",
       "      <th>2</th>\n",
       "      <td>0x0001f1c389823f953b2eaee0a61c33539744da0c</td>\n",
       "      <td>2017-08-03</td>\n",
       "      <td>4.101</td>\n",
       "      <td>8</td>\n",
       "      <td>3</td>\n",
       "      <td>3</td>\n",
       "      <td>3.241</td>\n",
       "      <td>0</td>\n",
       "    </tr>\n",
       "    <tr>\n",
       "      <th>3</th>\n",
       "      <td>0x0001f1c389823f953b2eaee0a61c33539744da0c</td>\n",
       "      <td>2017-08-04</td>\n",
       "      <td>4.124</td>\n",
       "      <td>8</td>\n",
       "      <td>4</td>\n",
       "      <td>4</td>\n",
       "      <td>3.241</td>\n",
       "      <td>0</td>\n",
       "    </tr>\n",
       "    <tr>\n",
       "      <th>4</th>\n",
       "      <td>0x0001f1c389823f953b2eaee0a61c33539744da0c</td>\n",
       "      <td>2017-08-05</td>\n",
       "      <td>4.111</td>\n",
       "      <td>8</td>\n",
       "      <td>5</td>\n",
       "      <td>5</td>\n",
       "      <td>3.241</td>\n",
       "      <td>0</td>\n",
       "    </tr>\n",
       "  </tbody>\n",
       "</table>\n",
       "</div>"
      ],
      "text/plain": [
       "                                     meter_id       date  meter_reading  \\\n",
       "0  0x0001f1c389823f953b2eaee0a61c33539744da0c 2017-08-01          4.143   \n",
       "1  0x0001f1c389823f953b2eaee0a61c33539744da0c 2017-08-02          4.116   \n",
       "2  0x0001f1c389823f953b2eaee0a61c33539744da0c 2017-08-03          4.101   \n",
       "3  0x0001f1c389823f953b2eaee0a61c33539744da0c 2017-08-04          4.124   \n",
       "4  0x0001f1c389823f953b2eaee0a61c33539744da0c 2017-08-05          4.111   \n",
       "\n",
       "   month  day_of_month  day_of_week  meter_reading_mean  meter_id_code  \n",
       "0      8             1            1               3.241              0  \n",
       "1      8             2            2               3.241              0  \n",
       "2      8             3            3               3.241              0  \n",
       "3      8             4            4               3.241              0  \n",
       "4      8             5            5               3.241              0  "
      ]
     },
     "execution_count": 4,
     "metadata": {},
     "output_type": "execute_result"
    }
   ],
   "source": [
    "le = preprocessing.LabelEncoder()\n",
    "le.fit(df_test[\"meter_id\"])\n",
    "\n",
    "df_train[\"meter_id_code\"] = le.transform(df_train[\"meter_id\"])\n",
    "df_test[\"meter_id_code\"] = le.transform(df_test[\"meter_id\"])\n",
    "\n",
    "df_train.head()"
   ]
  },
  {
   "cell_type": "code",
   "execution_count": 5,
   "metadata": {
    "ExecuteTime": {
     "end_time": "2020-11-13T19:18:43.668000Z",
     "start_time": "2020-11-13T19:18:43.575730Z"
    }
   },
   "outputs": [
    {
     "name": "stdout",
     "output_type": "stream",
     "text": [
      "used cols are: ['meter_id_code', 'day_of_week', 'day_of_month', 'meter_reading_mean', 'month_sin', 'month_cos']\n",
      "categorical cols are: ['meter_id_code', 'day_of_week', 'day_of_month']\n"
     ]
    }
   ],
   "source": [
    "for df_t in [df_train, df_test]:\n",
    "    df_t['month_sin'] = np.sin(2 * np.pi * df_t['month']/11.0)\n",
    "    df_t['month_cos'] = np.cos(2 * np.pi * df_t['month']/11.0)\n",
    "\n",
    "TARGET = \"meter_reading\"\n",
    "\n",
    "use_cols = [\"meter_id_code\", \"day_of_week\", \"day_of_month\", \"meter_reading_mean\", \"month_sin\", \"month_cos\"]\n",
    "print(f\"used cols are: {use_cols}\")\n",
    "\n",
    "cat_cols = [\"meter_id_code\", \"day_of_week\", \"day_of_month\"]\n",
    "print(f\"categorical cols are: {cat_cols}\")\n",
    "\n",
    "for col in cat_cols:\n",
    "    df_train[col] = df_train[col].astype('category')\n",
    "    df_test[col] = df_test[col].astype('category')"
   ]
  },
  {
   "cell_type": "code",
   "execution_count": 6,
   "metadata": {
    "ExecuteTime": {
     "end_time": "2020-11-13T19:18:43.671324Z",
     "start_time": "2020-11-13T19:18:43.668927Z"
    }
   },
   "outputs": [],
   "source": [
    "param = {\n",
    "    'metric': 'mae',\n",
    "    'num_leaves': 64,\n",
    "    'learning_rate': 0.01,\n",
    "    'n_estimators': 5000,\n",
    "    'subsample': 0.5, \n",
    "    \"lambda_l1\": 8,\n",
    "    \"lambda_l2\": 4,\n",
    "    \"max_depth\":4,\n",
    "    'seed': 42,\n",
    "    'n_jobs':-1\n",
    "}\n",
    "\n",
    "cv = 3\n",
    "kf = KFold(n_splits=cv, shuffle=True, random_state=42)\n",
    "skf = StratifiedKFold(n_splits=cv, shuffle=True, random_state=42)"
   ]
  },
  {
   "cell_type": "code",
   "execution_count": 7,
   "metadata": {
    "ExecuteTime": {
     "end_time": "2020-11-13T19:22:07.391534Z",
     "start_time": "2020-11-13T19:18:43.672490Z"
    }
   },
   "outputs": [
    {
     "name": "stdout",
     "output_type": "stream",
     "text": [
      "##################################################\n",
      "Training on cluster 0...\n",
      "OOF MAE SCORE IS: 1.507\n",
      "##################################################\n",
      "Training on cluster 1...\n",
      "OOF MAE SCORE IS: 1.561\n",
      "##################################################\n",
      "Training on cluster 2...\n",
      "OOF MAE SCORE IS: 1.493\n",
      "##################################################\n",
      "Training on cluster 3...\n",
      "OOF MAE SCORE IS: 1.513\n",
      "##################################################\n",
      "Training on cluster 4...\n",
      "OOF MAE SCORE IS: 1.466\n",
      "##################################################\n",
      "Training on cluster 5...\n",
      "OOF MAE SCORE IS: 1.389\n",
      "##################################################\n",
      "Training on cluster 6...\n",
      "OOF MAE SCORE IS: 1.373\n",
      "##################################################\n",
      "Training on cluster 7...\n",
      "OOF MAE SCORE IS: 1.356\n",
      "##################################################\n",
      "Training on cluster 8...\n",
      "OOF MAE SCORE IS: 1.397\n",
      "##################################################\n",
      "Training on cluster 9...\n",
      "OOF MAE SCORE IS: 1.425\n",
      "##################################################\n",
      "Training on cluster 10...\n",
      "OOF MAE SCORE IS: 1.459\n",
      "##################################################\n",
      "Training on cluster 11...\n",
      "OOF MAE SCORE IS: 1.439\n"
     ]
    }
   ],
   "source": [
    "for cluster_idx in range(12):\n",
    "    print(\"#\" * 50)\n",
    "    print(f\"Training on cluster {cluster_idx}...\")\n",
    "    df_cluster_meter_list = df[df.cluster == cluster_idx].meter_id.values\n",
    "    df_train_cluster_idx = df_train[df_train.meter_id.isin(df_cluster_meter_list)].reset_index(drop=True)\n",
    "\n",
    "    for train_index, valid_index in skf.split(df_train_cluster_idx, df_train_cluster_idx[\"meter_id\"]):\n",
    "\n",
    "        X_train, X_valid = df_train_cluster_idx.loc[train_index, use_cols], df_train_cluster_idx.loc[valid_index, use_cols]\n",
    "        y_train, y_valid = df_train_cluster_idx.loc[train_index, TARGET], df_train_cluster_idx.loc[valid_index, TARGET]\n",
    "\n",
    "        model_lgb = lgb.LGBMRegressor(**param)\n",
    "        model_lgb.fit(X_train, y_train,\n",
    "            eval_set=[(X_valid, y_valid)],\n",
    "            categorical_feature=cat_cols,\n",
    "            early_stopping_rounds=200,\n",
    "            verbose=False)\n",
    "\n",
    "        oof_valid = model_lgb.predict(X_valid, num_iteration=model_lgb.best_iteration_)\n",
    "        df_train_cluster_idx.loc[valid_index, \"oof\"] = oof_valid\n",
    "\n",
    "        mae = np.sqrt(mean_absolute_error(y_valid, oof_valid))\n",
    "\n",
    "        #TEST\n",
    "        df_test.loc[df_test.meter_id.isin(df_cluster_meter_list), TARGET] += model_lgb.predict(df_test.loc[df_test.meter_id.isin(df_cluster_meter_list), use_cols], num_iteration=model_lgb.best_iteration_) / cv\n",
    "    \n",
    "    oof_mae = np.sqrt(mean_absolute_error(df_train_cluster_idx[TARGET], df_train_cluster_idx[\"oof\"]))\n",
    "    print(f\"OOF MAE SCORE IS: {oof_mae:0.3f}\")\n",
    "\n",
    "df_test[\"meter_reading\"] = df_test.meter_reading.clip(lower=0)"
   ]
  },
  {
   "cell_type": "code",
   "execution_count": 8,
   "metadata": {
    "ExecuteTime": {
     "end_time": "2020-11-13T19:22:10.397908Z",
     "start_time": "2020-11-13T19:22:07.392501Z"
    }
   },
   "outputs": [],
   "source": [
    "# Write to submission\n",
    "df_month = df_test.groupby([\"meter_id\", \"month\"])[\"meter_reading\"].sum().unstack()\n",
    "\n",
    "month_cols = [\"Jan\", \"Feb\", \"Mar\", \"Apr\", \"May\", \"Jun\", \"Jul\", \"Aug\", \"Sep\", \"Oct\", \"Nov\", \"Dec\"]\n",
    "sub = pd.DataFrame(columns=[\"meter_id\"] + month_cols)\n",
    "\n",
    "sub[\"meter_id\"] = df_month.index.values\n",
    "sub[month_cols] = df_month.values.round()\n",
    "\n",
    "# sub.to_csv(\"../submissions/mini_lgb_baseline_clean.csv\", index=False, header=True)"
   ]
  },
  {
   "cell_type": "code",
   "execution_count": null,
   "metadata": {
    "ExecuteTime": {
     "end_time": "2020-11-13T01:39:01.026045Z",
     "start_time": "2020-11-13T01:39:01.009150Z"
    }
   },
   "outputs": [],
   "source": []
  },
  {
   "cell_type": "code",
   "execution_count": 9,
   "metadata": {
    "ExecuteTime": {
     "end_time": "2020-11-13T19:22:10.400139Z",
     "start_time": "2020-11-13T19:22:10.398742Z"
    }
   },
   "outputs": [],
   "source": [
    "# df_month_group = df_train.groupby([\"meter_id\", \"month\"])[\"meter_reading\"].sum().unstack()\n",
    "# df_train_month = pd.DataFrame(columns=[\"meter_id\"] + month_cols)\n",
    "\n",
    "# df_train_month[\"meter_id\"] = df_month_group.index.values\n",
    "# df_train_month[month_cols] = df_month_group.values.round(3)\n",
    "# for meter_x in set(df_test.meter_id) - set(df_train_month.meter_id):\n",
    "#     df_train_month = df_train_month.append({\"meter_id\": meter_x}, ignore_index=True)\n",
    "# df_train_month.fillna(0, inplace=True)"
   ]
  },
  {
   "cell_type": "code",
   "execution_count": 10,
   "metadata": {
    "ExecuteTime": {
     "end_time": "2020-11-13T19:22:10.412218Z",
     "start_time": "2020-11-13T19:22:10.401042Z"
    }
   },
   "outputs": [],
   "source": [
    "# df = pd.read_pickle(\"../input/consumption_month.pkl\")\n",
    "# meter_id_list = df.meter_id.values\n",
    "\n",
    "# # VISUALIZE PREDICTIONS\n",
    "# for idx, meter_idx in enumerate(tqdm(meter_id_list)):\n",
    "\n",
    "#     df_meter_idx = df_train[df_train.meter_id == meter_idx]\n",
    "\n",
    "#     fig = plt.figure(figsize=(21,18))\n",
    "#     plt.subplot(2, 1, 1)\n",
    "#     plt.plot(range(12), df_train_month[df_train_month.meter_id == meter_idx].values.reshape([-1])[1:], lw=5, label=\"train\")\n",
    "#     plt.plot(range(12), df_train_month[df_train_month.meter_id == meter_idx].values.reshape([-1])[1:], \".b\", ms=25)\n",
    "\n",
    "#     plt.plot(range(12, 24), sub[sub.meter_id == meter_idx].values.reshape([-1])[1:], lw=5, label=\"prediction\")\n",
    "#     plt.plot(range(12, 24), sub[sub.meter_id == meter_idx].values.reshape([-1])[1:], \".g\", ms=25)\n",
    "    \n",
    "#     plt.grid()\n",
    "#     plt.legend(fontsize=15)\n",
    "#     plt.title(f\"{idx}-{meter_idx}\", fontsize=25)\n",
    "    \n",
    "#     ######################################################\n",
    "#     plt.subplot(2, 1, 2)\n",
    "\n",
    "#     df_meter_idx[\"date\"] = pd.to_datetime(df_meter_idx[\"date\"])\n",
    "#     df_meter_idx.set_index(\"date\", inplace=True)\n",
    "\n",
    "#     df_test_meter_idx = df_test[df_test.meter_id == meter_idx]\n",
    "\n",
    "#     df_test_meter_idx[\"date\"] = pd.to_datetime(df_test_meter_idx[\"date\"])\n",
    "#     df_test_meter_idx.set_index(\"date\", inplace=True)\n",
    "\n",
    "#     plt.plot(df_meter_idx.meter_reading, lw=3, c=\"b\", alpha=1, label=\"train\")\n",
    "#     plt.plot(df_test_meter_idx.meter_reading, lw=3, c=\"g\", alpha=1, label=\"prediction\")\n",
    "\n",
    "#     plt.xlim([datetime(2017, 1, 1), datetime(2018, 12, 31)])\n",
    "\n",
    "#     plt.grid()\n",
    "#     plt.title(meter_idx, fontsize=25)\n",
    "#     plt.legend(fontsize=15)\n",
    "\n",
    "#     plt.savefig(f\"../eda/mini_lgb_clean_visual_check/{idx}-{meter_idx}.png\")"
   ]
  },
  {
   "cell_type": "code",
   "execution_count": null,
   "metadata": {},
   "outputs": [],
   "source": []
  },
  {
   "cell_type": "code",
   "execution_count": null,
   "metadata": {},
   "outputs": [],
   "source": []
  },
  {
   "cell_type": "code",
   "execution_count": null,
   "metadata": {},
   "outputs": [],
   "source": []
  },
  {
   "cell_type": "code",
   "execution_count": null,
   "metadata": {},
   "outputs": [],
   "source": []
  },
  {
   "cell_type": "code",
   "execution_count": null,
   "metadata": {},
   "outputs": [],
   "source": []
  }
 ],
 "metadata": {
  "kernelspec": {
   "display_name": "Python 3",
   "language": "python",
   "name": "python3"
  },
  "language_info": {
   "codemirror_mode": {
    "name": "ipython",
    "version": 3
   },
   "file_extension": ".py",
   "mimetype": "text/x-python",
   "name": "python",
   "nbconvert_exporter": "python",
   "pygments_lexer": "ipython3",
   "version": "3.7.5"
  },
  "toc": {
   "base_numbering": 1,
   "nav_menu": {},
   "number_sections": true,
   "sideBar": true,
   "skip_h1_title": false,
   "title_cell": "Table of Contents",
   "title_sidebar": "Contents",
   "toc_cell": false,
   "toc_position": {},
   "toc_section_display": true,
   "toc_window_display": false
  }
 },
 "nbformat": 4,
 "nbformat_minor": 4
}

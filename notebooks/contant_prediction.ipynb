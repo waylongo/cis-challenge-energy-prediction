{
 "cells": [
  {
   "cell_type": "code",
   "execution_count": 1,
   "metadata": {
    "ExecuteTime": {
     "end_time": "2020-11-22T21:12:32.693410Z",
     "start_time": "2020-11-22T21:12:32.060288Z"
    }
   },
   "outputs": [],
   "source": [
    "import numpy as np\n",
    "import pandas as pd\n",
    "import matplotlib.pyplot as plt\n",
    "from tqdm import tqdm_notebook as tqdm\n",
    "from datetime import datetime\n",
    "from sklearn import preprocessing\n",
    "from sklearn.metrics import mean_absolute_error\n",
    "\n",
    "import warnings\n",
    "warnings.filterwarnings(\"ignore\")\n",
    "pd.set_option('display.max_rows', 100)"
   ]
  },
  {
   "cell_type": "code",
   "execution_count": 2,
   "metadata": {
    "ExecuteTime": {
     "end_time": "2020-11-22T21:12:32.962348Z",
     "start_time": "2020-11-22T21:12:32.694302Z"
    }
   },
   "outputs": [
    {
     "name": "stdout",
     "output_type": "stream",
     "text": [
      "(636967, 7) (1185520, 7) 3248\n"
     ]
    },
    {
     "data": {
      "text/html": [
       "<div>\n",
       "<style scoped>\n",
       "    .dataframe tbody tr th:only-of-type {\n",
       "        vertical-align: middle;\n",
       "    }\n",
       "\n",
       "    .dataframe tbody tr th {\n",
       "        vertical-align: top;\n",
       "    }\n",
       "\n",
       "    .dataframe thead th {\n",
       "        text-align: right;\n",
       "    }\n",
       "</style>\n",
       "<table border=\"1\" class=\"dataframe\">\n",
       "  <thead>\n",
       "    <tr style=\"text-align: right;\">\n",
       "      <th></th>\n",
       "      <th>meter_id</th>\n",
       "      <th>date</th>\n",
       "      <th>meter_reading</th>\n",
       "      <th>month</th>\n",
       "      <th>day_of_month</th>\n",
       "      <th>day_of_week</th>\n",
       "      <th>meter_reading_mean</th>\n",
       "    </tr>\n",
       "  </thead>\n",
       "  <tbody>\n",
       "    <tr>\n",
       "      <th>0</th>\n",
       "      <td>0x0001f1c389823f953b2eaee0a61c33539744da0c</td>\n",
       "      <td>2017-08-01</td>\n",
       "      <td>4.143</td>\n",
       "      <td>8</td>\n",
       "      <td>1</td>\n",
       "      <td>1</td>\n",
       "      <td>3.241</td>\n",
       "    </tr>\n",
       "    <tr>\n",
       "      <th>1</th>\n",
       "      <td>0x0001f1c389823f953b2eaee0a61c33539744da0c</td>\n",
       "      <td>2017-08-02</td>\n",
       "      <td>4.116</td>\n",
       "      <td>8</td>\n",
       "      <td>2</td>\n",
       "      <td>2</td>\n",
       "      <td>3.241</td>\n",
       "    </tr>\n",
       "    <tr>\n",
       "      <th>2</th>\n",
       "      <td>0x0001f1c389823f953b2eaee0a61c33539744da0c</td>\n",
       "      <td>2017-08-03</td>\n",
       "      <td>4.101</td>\n",
       "      <td>8</td>\n",
       "      <td>3</td>\n",
       "      <td>3</td>\n",
       "      <td>3.241</td>\n",
       "    </tr>\n",
       "    <tr>\n",
       "      <th>3</th>\n",
       "      <td>0x0001f1c389823f953b2eaee0a61c33539744da0c</td>\n",
       "      <td>2017-08-04</td>\n",
       "      <td>4.124</td>\n",
       "      <td>8</td>\n",
       "      <td>4</td>\n",
       "      <td>4</td>\n",
       "      <td>3.241</td>\n",
       "    </tr>\n",
       "    <tr>\n",
       "      <th>4</th>\n",
       "      <td>0x0001f1c389823f953b2eaee0a61c33539744da0c</td>\n",
       "      <td>2017-08-05</td>\n",
       "      <td>4.111</td>\n",
       "      <td>8</td>\n",
       "      <td>5</td>\n",
       "      <td>5</td>\n",
       "      <td>3.241</td>\n",
       "    </tr>\n",
       "  </tbody>\n",
       "</table>\n",
       "</div>"
      ],
      "text/plain": [
       "                                     meter_id       date  meter_reading  \\\n",
       "0  0x0001f1c389823f953b2eaee0a61c33539744da0c 2017-08-01          4.143   \n",
       "1  0x0001f1c389823f953b2eaee0a61c33539744da0c 2017-08-02          4.116   \n",
       "2  0x0001f1c389823f953b2eaee0a61c33539744da0c 2017-08-03          4.101   \n",
       "3  0x0001f1c389823f953b2eaee0a61c33539744da0c 2017-08-04          4.124   \n",
       "4  0x0001f1c389823f953b2eaee0a61c33539744da0c 2017-08-05          4.111   \n",
       "\n",
       "   month  day_of_month  day_of_week  meter_reading_mean  \n",
       "0      8             1            1               3.241  \n",
       "1      8             2            2               3.241  \n",
       "2      8             3            3               3.241  \n",
       "3      8             4            4               3.241  \n",
       "4      8             5            5               3.241  "
      ]
     },
     "execution_count": 2,
     "metadata": {},
     "output_type": "execute_result"
    }
   ],
   "source": [
    "df_train = pd.read_pickle(\"../input/df_train.pkl\")\n",
    "df_test = pd.read_pickle(\"../input/df_test.pkl\")\n",
    "meter_list = df_test.meter_id.unique()\n",
    "\n",
    "print(df_train.shape, df_test.shape, len(meter_list))\n",
    "df_train.head()"
   ]
  },
  {
   "cell_type": "code",
   "execution_count": 3,
   "metadata": {
    "ExecuteTime": {
     "end_time": "2020-11-22T21:12:33.065302Z",
     "start_time": "2020-11-22T21:12:32.963465Z"
    }
   },
   "outputs": [
    {
     "name": "stdout",
     "output_type": "stream",
     "text": [
      "(187713, 7)\n"
     ]
    },
    {
     "data": {
      "text/html": [
       "<div>\n",
       "<style scoped>\n",
       "    .dataframe tbody tr th:only-of-type {\n",
       "        vertical-align: middle;\n",
       "    }\n",
       "\n",
       "    .dataframe tbody tr th {\n",
       "        vertical-align: top;\n",
       "    }\n",
       "\n",
       "    .dataframe thead th {\n",
       "        text-align: right;\n",
       "    }\n",
       "</style>\n",
       "<table border=\"1\" class=\"dataframe\">\n",
       "  <thead>\n",
       "    <tr style=\"text-align: right;\">\n",
       "      <th></th>\n",
       "      <th>meter_id</th>\n",
       "      <th>date</th>\n",
       "      <th>meter_reading</th>\n",
       "      <th>month</th>\n",
       "      <th>day_of_month</th>\n",
       "      <th>day_of_week</th>\n",
       "      <th>meter_reading_mean</th>\n",
       "    </tr>\n",
       "  </thead>\n",
       "  <tbody>\n",
       "    <tr>\n",
       "      <th>187708</th>\n",
       "      <td>0xfff895258c21f1a58fc06538173d02b621021ad4</td>\n",
       "      <td>2017-12-27</td>\n",
       "      <td>0.000</td>\n",
       "      <td>12</td>\n",
       "      <td>27</td>\n",
       "      <td>2</td>\n",
       "      <td>6.999</td>\n",
       "    </tr>\n",
       "    <tr>\n",
       "      <th>187709</th>\n",
       "      <td>0xfff895258c21f1a58fc06538173d02b621021ad4</td>\n",
       "      <td>2017-12-28</td>\n",
       "      <td>9.945</td>\n",
       "      <td>12</td>\n",
       "      <td>28</td>\n",
       "      <td>3</td>\n",
       "      <td>6.999</td>\n",
       "    </tr>\n",
       "    <tr>\n",
       "      <th>187710</th>\n",
       "      <td>0xfff895258c21f1a58fc06538173d02b621021ad4</td>\n",
       "      <td>2017-12-29</td>\n",
       "      <td>0.000</td>\n",
       "      <td>12</td>\n",
       "      <td>29</td>\n",
       "      <td>4</td>\n",
       "      <td>6.999</td>\n",
       "    </tr>\n",
       "    <tr>\n",
       "      <th>187711</th>\n",
       "      <td>0xfff895258c21f1a58fc06538173d02b621021ad4</td>\n",
       "      <td>2017-12-30</td>\n",
       "      <td>6.984</td>\n",
       "      <td>12</td>\n",
       "      <td>30</td>\n",
       "      <td>5</td>\n",
       "      <td>6.999</td>\n",
       "    </tr>\n",
       "    <tr>\n",
       "      <th>187712</th>\n",
       "      <td>0xfff895258c21f1a58fc06538173d02b621021ad4</td>\n",
       "      <td>2017-12-31</td>\n",
       "      <td>7.460</td>\n",
       "      <td>12</td>\n",
       "      <td>31</td>\n",
       "      <td>6</td>\n",
       "      <td>6.999</td>\n",
       "    </tr>\n",
       "  </tbody>\n",
       "</table>\n",
       "</div>"
      ],
      "text/plain": [
       "                                          meter_id       date  meter_reading  \\\n",
       "187708  0xfff895258c21f1a58fc06538173d02b621021ad4 2017-12-27          0.000   \n",
       "187709  0xfff895258c21f1a58fc06538173d02b621021ad4 2017-12-28          9.945   \n",
       "187710  0xfff895258c21f1a58fc06538173d02b621021ad4 2017-12-29          0.000   \n",
       "187711  0xfff895258c21f1a58fc06538173d02b621021ad4 2017-12-30          6.984   \n",
       "187712  0xfff895258c21f1a58fc06538173d02b621021ad4 2017-12-31          7.460   \n",
       "\n",
       "        month  day_of_month  day_of_week  meter_reading_mean  \n",
       "187708     12            27            2               6.999  \n",
       "187709     12            28            3               6.999  \n",
       "187710     12            29            4               6.999  \n",
       "187711     12            30            5               6.999  \n",
       "187712     12            31            6               6.999  "
      ]
     },
     "execution_count": 3,
     "metadata": {},
     "output_type": "execute_result"
    }
   ],
   "source": [
    "month_drop = [1,2,3,4,5,6,7,8,9,10] # discard month 1-10, only use Nov and Dec months\n",
    "df_train.drop(df_train[df_train.month.isin(month_drop)].index, inplace=True)\n",
    "df_train.reset_index(drop=True, inplace=True)\n",
    "\n",
    "print(df_train.shape)\n",
    "df_train.tail()"
   ]
  },
  {
   "cell_type": "code",
   "execution_count": 4,
   "metadata": {
    "ExecuteTime": {
     "end_time": "2020-11-22T21:12:33.100936Z",
     "start_time": "2020-11-22T21:12:33.066236Z"
    }
   },
   "outputs": [],
   "source": [
    "mean_pred = df_train.groupby([\"meter_id\"])[\"meter_reading\"].sum()/df_train.groupby([\"meter_id\"])[\"month\"].nunique()"
   ]
  },
  {
   "cell_type": "code",
   "execution_count": 5,
   "metadata": {
    "ExecuteTime": {
     "end_time": "2020-11-22T21:12:33.116327Z",
     "start_time": "2020-11-22T21:12:33.101850Z"
    },
    "scrolled": true
   },
   "outputs": [],
   "source": [
    "month_cols = [\"Jan\", \"Feb\", \"Mar\", \"Apr\", \"May\", \"Jun\", \"Jul\", \"Aug\", \"Sep\", \"Oct\", \"Nov\", \"Dec\"]\n",
    "\n",
    "sub = pd.DataFrame(columns=[\"meter_id\"] + month_cols)\n",
    "sub[\"meter_id\"] = meter_list\n",
    "\n",
    "for col in month_cols:\n",
    "    sub[col] = sub[\"meter_id\"].map(mean_pred).round().fillna(0)"
   ]
  },
  {
   "cell_type": "code",
   "execution_count": 6,
   "metadata": {
    "ExecuteTime": {
     "end_time": "2020-11-22T21:12:33.120137Z",
     "start_time": "2020-11-22T21:12:33.117230Z"
    }
   },
   "outputs": [
    {
     "name": "stdout",
     "output_type": "stream",
     "text": [
      "SUBMISSION RECORD IS 3248\n",
      "SUBMISSION IS SAVED SUCCESSFULLY!\n"
     ]
    }
   ],
   "source": [
    "print(f\"SUBMISSION RECORD IS {sub.shape[0]}\")\n",
    "if len(sub) == 3248:\n",
    "#     sub.to_csv(\"../submissions/mean_1112_pred.csv\", index=False, header=True)\n",
    "    print(\"SUBMISSION IS SAVED SUCCESSFULLY!\")\n",
    "else:\n",
    "    print(\"SUBMISSION SHAPE IS WRONG!\")"
   ]
  },
  {
   "cell_type": "code",
   "execution_count": null,
   "metadata": {},
   "outputs": [],
   "source": []
  },
  {
   "cell_type": "code",
   "execution_count": null,
   "metadata": {},
   "outputs": [],
   "source": []
  },
  {
   "cell_type": "code",
   "execution_count": null,
   "metadata": {},
   "outputs": [],
   "source": []
  },
  {
   "cell_type": "code",
   "execution_count": null,
   "metadata": {},
   "outputs": [],
   "source": []
  },
  {
   "cell_type": "code",
   "execution_count": null,
   "metadata": {},
   "outputs": [],
   "source": []
  }
 ],
 "metadata": {
  "kernelspec": {
   "display_name": "Python 3",
   "language": "python",
   "name": "python3"
  },
  "language_info": {
   "codemirror_mode": {
    "name": "ipython",
    "version": 3
   },
   "file_extension": ".py",
   "mimetype": "text/x-python",
   "name": "python",
   "nbconvert_exporter": "python",
   "pygments_lexer": "ipython3",
   "version": "3.7.5"
  },
  "toc": {
   "base_numbering": 1,
   "nav_menu": {},
   "number_sections": true,
   "sideBar": true,
   "skip_h1_title": false,
   "title_cell": "Table of Contents",
   "title_sidebar": "Contents",
   "toc_cell": false,
   "toc_position": {},
   "toc_section_display": true,
   "toc_window_display": false
  }
 },
 "nbformat": 4,
 "nbformat_minor": 4
}
